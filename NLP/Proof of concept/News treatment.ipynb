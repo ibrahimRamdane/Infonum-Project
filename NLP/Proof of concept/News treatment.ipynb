{
 "cells": [
  {
   "cell_type": "markdown",
   "id": "d61899cd",
   "metadata": {},
   "source": [
    "<tr>\n",
    "<td style=\"text-align: center;\">\n",
    "    <div style=\"display: inline-block;text-align: center\">\n",
    "        <img src=\"Logo_CentraleSupélec.png\" style=\"width: 30%;\">\n",
    "        <img src=\"Logo-HeadMind-Partners.png\" style=\"width: 50%;\">\n",
    "    </div>\n",
    "</td>\n",
    "</tr>\n"
   ]
  },
  {
   "cell_type": "markdown",
   "id": "8a4dae16",
   "metadata": {},
   "source": [
    "<h1 style=\"font-family: Georgia, Arial; font-size: 36px;\">News treatment with NLP </h1>\n",
    "<p style=\"font-size: 24px;\">Infonum Project</p>\n",
    "<p style=\"font-size: 24px;\"></p>\n",
    "<p style=\"font-size: 24px;\">Members: Francisco García, Olivia Moyal, Ibrahim Ramdane</p>\n"
   ]
  },
  {
   "cell_type": "markdown",
   "id": "dadaa064",
   "metadata": {},
   "source": [
    "This notebook is dedicated to the processing and analysis of news data, focusing on extracting, cleaning, and analyzing news articles to unveil trends and perform sentiment analysis. Our primary objective is to refine raw news content into structured data, facilitating deeper analysis and insights. To achieve this, we will utilize a DataFrame containing news articles and augment it with various metrics, including the similarity of their embeddings to a reference text. \n",
    "\n",
    "This augmentation will prove useful for clustering news articles into distinct groups based on their semantic similarities. Additionally, we will incorporate information regarding the presence of specific entities within these texts. With these enriched datasets, we aim to assess the semantic proximity of news articles to a predefined target, such as Apple Inc., thereby providing valuable insights into the discourse surrounding the target entity.\n"
   ]
  },
  {
   "cell_type": "markdown",
   "id": "1feefc4a",
   "metadata": {},
   "source": [
    "#### Import Librairies"
   ]
  },
  {
   "cell_type": "code",
   "execution_count": 1,
   "id": "c699c20f-9e38-4f1c-9d4b-c8e6c383a25a",
   "metadata": {},
   "outputs": [
    {
     "name": "stdout",
     "output_type": "stream",
     "text": [
      "WARNING:tensorflow:From c:\\Users\\Francisco García\\AppData\\Local\\Programs\\Python\\Python310\\lib\\site-packages\\keras\\src\\losses.py:2976: The name tf.losses.sparse_softmax_cross_entropy is deprecated. Please use tf.compat.v1.losses.sparse_softmax_cross_entropy instead.\n",
      "\n"
     ]
    }
   ],
   "source": [
    "import pickle\n",
    "import tensorflow as tf\n",
    "import pandas as pd\n",
    "import numpy as np\n",
    "import matplotlib.pyplot as plt"
   ]
  },
  {
   "cell_type": "markdown",
   "id": "54af7cc7",
   "metadata": {},
   "source": [
    "We will work with the following pandas DataFrame:"
   ]
  },
  {
   "cell_type": "code",
   "execution_count": 2,
   "id": "5563e286",
   "metadata": {},
   "outputs": [],
   "source": [
    "df = pd.read_pickle('df simple - 1 janvier to 7 mars.pkl')"
   ]
  },
  {
   "cell_type": "markdown",
   "id": "93416870",
   "metadata": {},
   "source": [
    "#### First NLP model: Text Embedding with BERT\n",
    "\n",
    "We delve into the utilization of BERT (Bidirectional Encoder Representations from Transformers) for text embedding, that transforms text data into dense vector representations, capturing semantic meanings and relationships.\n",
    "\n",
    "We will employ the \"bert-base-uncased\" model, a widely-used variant of BERT pre-trained on a large corpus of text data. This model has been trained to generate high-quality embeddings for various NLP tasks, including text classification, sentiment analysis, and more."
   ]
  },
  {
   "cell_type": "code",
   "execution_count": 34,
   "id": "428010ce",
   "metadata": {},
   "outputs": [],
   "source": [
    "from transformers import AutoTokenizer, AutoModel\n",
    "import torch\n",
    "from scipy.spatial.distance import cosine\n",
    "import pandas as pd  # Assuming you're using pandas DataFrame for 'df'\n",
    "\n",
    "tokenizer_bert = AutoTokenizer.from_pretrained(\"bert-base-uncased\")\n",
    "model_bert = AutoModel.from_pretrained(\"bert-base-uncased\")"
   ]
  },
  {
   "cell_type": "code",
   "execution_count": 38,
   "id": "7fc89a82",
   "metadata": {},
   "outputs": [],
   "source": [
    "def get_embedding(text):\n",
    "    # Tokenize and convert to input IDs\n",
    "    inputs = tokenizer_bert(text, return_tensors=\"pt\")\n",
    "\n",
    "    # Get the embeddings\n",
    "    with torch.no_grad():\n",
    "        outputs = model_bert(**inputs)\n",
    "\n",
    "    # Mean pooling to get one vector per sequence\n",
    "    embeddings = outputs.last_hidden_state.mean(dim=1)\n",
    "    return embeddings.squeeze()\n",
    "\n",
    "counting = 0\n",
    "errors = 0\n",
    "def get_embedding_of_title(row):\n",
    "    global counting\n",
    "    global errors\n",
    "    try:\n",
    "        # Get embeddings\n",
    "        embedding = get_embedding(row['Title'])    \n",
    "        counting += 1\n",
    "        if counting % 100 == 0:\n",
    "            print(counting, end=\" \")\n",
    "        return embedding\n",
    "    except Exception as e:\n",
    "        errors += 1\n",
    "        return None  # Return None to indicate failure"
   ]
  },
  {
   "cell_type": "code",
   "execution_count": null,
   "id": "855e042e",
   "metadata": {},
   "outputs": [],
   "source": [
    "print(errors)"
   ]
  },
  {
   "cell_type": "code",
   "execution_count": 8,
   "id": "335fd372",
   "metadata": {},
   "outputs": [
    {
     "name": "stdout",
     "output_type": "stream",
     "text": [
      "100 200 300 400 500 600 700 800 900 1000 1100 1200 1300 1400 1500 1600 1700 1800 1900 2000 2100 2200 2300 2400 2500 2600 2700 2800 2900 3000 3100 3200 3300 3400 3500 3600 3700 3800 3900 4000 4100 4200 4300 4400 4500 4600 4700 4800 4900 5000 5100 5200 5300 5400 5500 5600 5700 5800 5900 6000 6100 6200 6300 6400 6500 6600 6700 6800 6900 7000 7100 7200 7300 7400 7500 7600 7700 7800 7900 8000 8100 8200 8300 8400 8500 8600 8700 8800 8900 9000 9100 9200 9300 9400 9500 9600 9700 9800 9900 10000 10100 10200 10300 10400 10500 10600 10700 10800 10900 11000 11100 11200 11300 11400 11500 11600 11700 11800 11900 12000 12100 12200 12300 12400 12500 12600 12700 12800 12900 13000 13100 13200 13300 13400 13500 13600 13700 13800 13900 14000 14100 14200 14300 14400 14500 14600 14700 14800 14900 15000 15100 15200 15300 15400 15500 15600 15700 15800 15900 16000 16100 16200 16300 16400 16500 16600 16700 16800 16900 17000 17100 17200 17300 17400 17500 17600 17700 17800 17900 18000 18100 18200 18300 18400 18500 18600 18700 18800 18900 19000 19100 19200 19300 19400 19500 19600 19700 19800 19900 20000 20100 20200 20300 20400 20500 20600 20700 20800 20900 21000 21100 21200 21300 21400 21500 21600 21700 21800 21900 22000 22100 22200 22300 22400 22500 22600 22700 22800 22900 23000 23100 23200 23300 23400 23500 23600 23700 23800 23900 24000 24100 24200 24300 24400 24500 24600 24700 24800 24900 25000 25100 25200 "
     ]
    }
   ],
   "source": [
    "df['Embedding'] = df.apply(get_embedding_of_title, axis=1)\n",
    "df_filtered = df.dropna(subset=['Embedding'])\n"
   ]
  },
  {
   "cell_type": "code",
   "execution_count": 12,
   "id": "56ec0e14",
   "metadata": {},
   "outputs": [],
   "source": [
    "df.to_pickle('df embedding - 1 janvier to 7 mars')"
   ]
  },
  {
   "cell_type": "code",
   "execution_count": 2,
   "id": "c9472cfb",
   "metadata": {},
   "outputs": [],
   "source": [
    "df = pd.read_pickle('df embedding - 1 janvier to 7 mars')"
   ]
  },
  {
   "cell_type": "code",
   "execution_count": 3,
   "id": "279d2924",
   "metadata": {},
   "outputs": [
    {
     "data": {
      "text/html": [
       "<div>\n",
       "<style scoped>\n",
       "    .dataframe tbody tr th:only-of-type {\n",
       "        vertical-align: middle;\n",
       "    }\n",
       "\n",
       "    .dataframe tbody tr th {\n",
       "        vertical-align: top;\n",
       "    }\n",
       "\n",
       "    .dataframe thead th {\n",
       "        text-align: right;\n",
       "    }\n",
       "</style>\n",
       "<table border=\"1\" class=\"dataframe\">\n",
       "  <thead>\n",
       "    <tr style=\"text-align: right;\">\n",
       "      <th></th>\n",
       "      <th>Date</th>\n",
       "      <th>Name</th>\n",
       "      <th>Title</th>\n",
       "      <th>Abstract</th>\n",
       "      <th>Embedding</th>\n",
       "    </tr>\n",
       "  </thead>\n",
       "  <tbody>\n",
       "    <tr>\n",
       "      <th>0</th>\n",
       "      <td>2023-12-31 00:00:00</td>\n",
       "      <td>Hacker News</td>\n",
       "      <td>Cold-blooded software | Hacker News</td>\n",
       "      <td>None</td>\n",
       "      <td>[tensor(0.2399), tensor(-0.1905), tensor(-0.08...</td>\n",
       "    </tr>\n",
       "    <tr>\n",
       "      <th>1</th>\n",
       "      <td>2023-12-31 00:00:00</td>\n",
       "      <td>ABC News</td>\n",
       "      <td>Displaced, repatriated and crossing borders: A...</td>\n",
       "      <td>The barren desert plain among the mountains of...</td>\n",
       "      <td>[tensor(0.1377), tensor(0.1298), tensor(0.0656...</td>\n",
       "    </tr>\n",
       "    <tr>\n",
       "      <th>2</th>\n",
       "      <td>2023-12-31 00:00:00</td>\n",
       "      <td>Buzzfeed</td>\n",
       "      <td>34 Products For Anyone Who Self-Identifies As ...</td>\n",
       "      <td>It's this clever attachable Stanley cup snack ...</td>\n",
       "      <td>[tensor(-0.0078), tensor(0.0787), tensor(0.162...</td>\n",
       "    </tr>\n",
       "    <tr>\n",
       "      <th>3</th>\n",
       "      <td>2023-12-31 00:00:00</td>\n",
       "      <td>ABC News</td>\n",
       "      <td>Laws banning semi-automatic weapons and librar...</td>\n",
       "      <td>Illinois will usher in 320 new laws on New Yea...</td>\n",
       "      <td>[tensor(0.0924), tensor(-0.2601), tensor(-0.28...</td>\n",
       "    </tr>\n",
       "    <tr>\n",
       "      <th>4</th>\n",
       "      <td>2023-12-31 00:00:00</td>\n",
       "      <td>ABC News</td>\n",
       "      <td>After landmark legislation, Indiana Republican...</td>\n",
       "      <td>Indiana's Republican leaders are calling for a...</td>\n",
       "      <td>[tensor(0.0610), tensor(-0.5290), tensor(0.094...</td>\n",
       "    </tr>\n",
       "    <tr>\n",
       "      <th>...</th>\n",
       "      <td>...</td>\n",
       "      <td>...</td>\n",
       "      <td>...</td>\n",
       "      <td>...</td>\n",
       "      <td>...</td>\n",
       "    </tr>\n",
       "    <tr>\n",
       "      <th>8472</th>\n",
       "      <td>2024-03-07</td>\n",
       "      <td>ABC News</td>\n",
       "      <td>Maine mass shooter 'likely' suffered from trau...</td>\n",
       "      <td>Robert Card, the man who killed 18 in the Lewi...</td>\n",
       "      <td>[tensor(-0.2279), tensor(-0.0601), tensor(-0.1...</td>\n",
       "    </tr>\n",
       "    <tr>\n",
       "      <th>8473</th>\n",
       "      <td>2024-03-07</td>\n",
       "      <td>CBC News</td>\n",
       "      <td>Pedestrian struck and killed on Gardiner Expre...</td>\n",
       "      <td>A pedestrian was struck and killed by a vehicl...</td>\n",
       "      <td>[tensor(0.0337), tensor(-0.4104), tensor(0.200...</td>\n",
       "    </tr>\n",
       "    <tr>\n",
       "      <th>8474</th>\n",
       "      <td>2024-03-07</td>\n",
       "      <td>CNN</td>\n",
       "      <td>Single dose of LSD provides immediate, lasting...</td>\n",
       "      <td>One dose of LSD in a clinical trial significan...</td>\n",
       "      <td>[tensor(-0.1561), tensor(-0.0043), tensor(0.11...</td>\n",
       "    </tr>\n",
       "    <tr>\n",
       "      <th>8475</th>\n",
       "      <td>2024-03-07</td>\n",
       "      <td>BBC News</td>\n",
       "      <td>World's earliest forest discovered, scientists...</td>\n",
       "      <td>The tree fossils dating back 390 million years...</td>\n",
       "      <td>[tensor(-0.1308), tensor(0.1301), tensor(0.090...</td>\n",
       "    </tr>\n",
       "    <tr>\n",
       "      <th>8476</th>\n",
       "      <td>2024-03-07</td>\n",
       "      <td>Business Insider</td>\n",
       "      <td>Kate Winslet opens up for the first time about...</td>\n",
       "      <td>Kate Winslet, the Oscar-winning actor, talked ...</td>\n",
       "      <td>[tensor(0.1295), tensor(0.2482), tensor(0.1909...</td>\n",
       "    </tr>\n",
       "  </tbody>\n",
       "</table>\n",
       "<p>25278 rows × 5 columns</p>\n",
       "</div>"
      ],
      "text/plain": [
       "                     Date              Name  \\\n",
       "0     2023-12-31 00:00:00       Hacker News   \n",
       "1     2023-12-31 00:00:00          ABC News   \n",
       "2     2023-12-31 00:00:00          Buzzfeed   \n",
       "3     2023-12-31 00:00:00          ABC News   \n",
       "4     2023-12-31 00:00:00          ABC News   \n",
       "...                   ...               ...   \n",
       "8472           2024-03-07          ABC News   \n",
       "8473           2024-03-07          CBC News   \n",
       "8474           2024-03-07               CNN   \n",
       "8475           2024-03-07          BBC News   \n",
       "8476           2024-03-07  Business Insider   \n",
       "\n",
       "                                                  Title  \\\n",
       "0                   Cold-blooded software | Hacker News   \n",
       "1     Displaced, repatriated and crossing borders: A...   \n",
       "2     34 Products For Anyone Who Self-Identifies As ...   \n",
       "3     Laws banning semi-automatic weapons and librar...   \n",
       "4     After landmark legislation, Indiana Republican...   \n",
       "...                                                 ...   \n",
       "8472  Maine mass shooter 'likely' suffered from trau...   \n",
       "8473  Pedestrian struck and killed on Gardiner Expre...   \n",
       "8474  Single dose of LSD provides immediate, lasting...   \n",
       "8475  World's earliest forest discovered, scientists...   \n",
       "8476  Kate Winslet opens up for the first time about...   \n",
       "\n",
       "                                               Abstract  \\\n",
       "0                                                  None   \n",
       "1     The barren desert plain among the mountains of...   \n",
       "2     It's this clever attachable Stanley cup snack ...   \n",
       "3     Illinois will usher in 320 new laws on New Yea...   \n",
       "4     Indiana's Republican leaders are calling for a...   \n",
       "...                                                 ...   \n",
       "8472  Robert Card, the man who killed 18 in the Lewi...   \n",
       "8473  A pedestrian was struck and killed by a vehicl...   \n",
       "8474  One dose of LSD in a clinical trial significan...   \n",
       "8475  The tree fossils dating back 390 million years...   \n",
       "8476  Kate Winslet, the Oscar-winning actor, talked ...   \n",
       "\n",
       "                                              Embedding  \n",
       "0     [tensor(0.2399), tensor(-0.1905), tensor(-0.08...  \n",
       "1     [tensor(0.1377), tensor(0.1298), tensor(0.0656...  \n",
       "2     [tensor(-0.0078), tensor(0.0787), tensor(0.162...  \n",
       "3     [tensor(0.0924), tensor(-0.2601), tensor(-0.28...  \n",
       "4     [tensor(0.0610), tensor(-0.5290), tensor(0.094...  \n",
       "...                                                 ...  \n",
       "8472  [tensor(-0.2279), tensor(-0.0601), tensor(-0.1...  \n",
       "8473  [tensor(0.0337), tensor(-0.4104), tensor(0.200...  \n",
       "8474  [tensor(-0.1561), tensor(-0.0043), tensor(0.11...  \n",
       "8475  [tensor(-0.1308), tensor(0.1301), tensor(0.090...  \n",
       "8476  [tensor(0.1295), tensor(0.2482), tensor(0.1909...  \n",
       "\n",
       "[25278 rows x 5 columns]"
      ]
     },
     "execution_count": 3,
     "metadata": {},
     "output_type": "execute_result"
    }
   ],
   "source": [
    "df"
   ]
  },
  {
   "cell_type": "markdown",
   "id": "96bf4efc",
   "metadata": {},
   "source": [
    "#### Second NLP model: Named Entity Recognition (NER)\n",
    "\n",
    "We employ a state-of-the-art NER model to extract entities from text data. NER identifies and classifies entities within a text, such as names of people, organizations, locations, dates, and more.\n",
    "\n",
    "For this task, we will utilize the \"dslim/bert-large-NER\" model, a variant of BERT (Bidirectional Encoder Representations from Transformers) fine-tuned specifically for NER tasks. This model has been pre-trained on a large corpus of text and fine-tuned on labeled NER datasets to accurately recognize entities in various contexts."
   ]
  },
  {
   "cell_type": "code",
   "execution_count": 5,
   "id": "4ab8971b",
   "metadata": {},
   "outputs": [
    {
     "data": {
      "application/vnd.jupyter.widget-view+json": {
       "model_id": "d86bd4dc218e468dbf826261b30af28b",
       "version_major": 2,
       "version_minor": 0
      },
      "text/plain": [
       "config.json:   0%|          | 0.00/1.45k [00:00<?, ?B/s]"
      ]
     },
     "metadata": {},
     "output_type": "display_data"
    },
    {
     "name": "stderr",
     "output_type": "stream",
     "text": [
      "c:\\Users\\Francisco García\\AppData\\Local\\Programs\\Python\\Python310\\lib\\site-packages\\huggingface_hub\\file_download.py:149: UserWarning: `huggingface_hub` cache-system uses symlinks by default to efficiently store duplicated files but your machine does not support them in C:\\Users\\Francisco García\\.cache\\huggingface\\hub\\models--dslim--bert-large-NER. Caching files will still work but in a degraded version that might require more space on your disk. This warning can be disabled by setting the `HF_HUB_DISABLE_SYMLINKS_WARNING` environment variable. For more details, see https://huggingface.co/docs/huggingface_hub/how-to-cache#limitations.\n",
      "To support symlinks on Windows, you either need to activate Developer Mode or to run Python as an administrator. In order to see activate developer mode, see this article: https://docs.microsoft.com/en-us/windows/apps/get-started/enable-your-device-for-development\n",
      "  warnings.warn(message)\n"
     ]
    },
    {
     "data": {
      "application/vnd.jupyter.widget-view+json": {
       "model_id": "79596fef59a64d4ca39dbdf6debf83ef",
       "version_major": 2,
       "version_minor": 0
      },
      "text/plain": [
       "config.json:   0%|          | 0.00/1.45k [00:00<?, ?B/s]"
      ]
     },
     "metadata": {},
     "output_type": "display_data"
    },
    {
     "data": {
      "application/vnd.jupyter.widget-view+json": {
       "model_id": "fc058447296a4bb59fafdead2074871e",
       "version_major": 2,
       "version_minor": 0
      },
      "text/plain": [
       "model.safetensors:   0%|          | 0.00/1.33G [00:00<?, ?B/s]"
      ]
     },
     "metadata": {},
     "output_type": "display_data"
    },
    {
     "name": "stderr",
     "output_type": "stream",
     "text": [
      "Error while downloading from https://cdn-lfs.huggingface.co/dslim/bert-large-NER/81d6a7a3967f136e18bac045a2c8c0ab30f39ae70268129e60255afa21d4205b?response-content-disposition=attachment%3B+filename*%3DUTF-8%27%27model.safetensors%3B+filename%3D%22model.safetensors%22%3B&Expires=1710448591&Policy=eyJTdGF0ZW1lbnQiOlt7IkNvbmRpdGlvbiI6eyJEYXRlTGVzc1RoYW4iOnsiQVdTOkVwb2NoVGltZSI6MTcxMDQ0ODU5MX19LCJSZXNvdXJjZSI6Imh0dHBzOi8vY2RuLWxmcy5odWdnaW5nZmFjZS5jby9kc2xpbS9iZXJ0LWxhcmdlLU5FUi84MWQ2YTdhMzk2N2YxMzZlMThiYWMwNDVhMmM4YzBhYjMwZjM5YWU3MDI2ODEyOWU2MDI1NWFmYTIxZDQyMDViP3Jlc3BvbnNlLWNvbnRlbnQtZGlzcG9zaXRpb249KiJ9XX0_&Signature=KbHyNWJALfsfj3eQ%7EEvCc5TZMlPu2dB2NMXkBquxr1fOXbukcQX1lgGUD8QFyh4-%7EYrJHuvzKw1-Huxl3PT23m4Zj0q7BJaJvoFkgyvqnL9QEx0zvtR08YOFoXv0TRWrzjxHtRFYglYhT1Z4r0GhxyRQM9yG8Gio7TpbeU1QwHiHFmzyie%7E6eEIB7f%7E61LKtJ9QWhzkmgGBKNdHUoxHvAX0ctQfIXKQY9ywur7KzJkDYItoJa5SevXZNeBa85nO7Ys6CMVNVjeSZD-DWx2sStWqt5AQdZaAF-QjhCopcuslC2iMlf82y45boCBtmtnCbizYbB2fJBM-Uxfy5V0-vkQ__&Key-Pair-Id=KVTP0A1DKRTAX: HTTPSConnectionPool(host='cdn-lfs.huggingface.co', port=443): Read timed out.\n",
      "Trying to resume download...\n"
     ]
    },
    {
     "data": {
      "application/vnd.jupyter.widget-view+json": {
       "model_id": "31e980525acb4ca0994b31c3514fed49",
       "version_major": 2,
       "version_minor": 0
      },
      "text/plain": [
       "model.safetensors:  44%|####4     | 587M/1.33G [00:00<?, ?B/s]"
      ]
     },
     "metadata": {},
     "output_type": "display_data"
    },
    {
     "name": "stderr",
     "output_type": "stream",
     "text": [
      "Some weights of the model checkpoint at dslim/bert-large-NER were not used when initializing BertForTokenClassification: ['bert.pooler.dense.bias', 'bert.pooler.dense.weight']\n",
      "- This IS expected if you are initializing BertForTokenClassification from the checkpoint of a model trained on another task or with another architecture (e.g. initializing a BertForSequenceClassification model from a BertForPreTraining model).\n",
      "- This IS NOT expected if you are initializing BertForTokenClassification from the checkpoint of a model that you expect to be exactly identical (initializing a BertForSequenceClassification model from a BertForSequenceClassification model).\n"
     ]
    }
   ],
   "source": [
    "from transformers import AutoTokenizer, AutoModelForTokenClassification, pipeline\n",
    "\n",
    "tokenizer_ner = AutoTokenizer.from_pretrained(\"dslim/bert-large-NER\")\n",
    "model_ner = AutoModelForTokenClassification.from_pretrained(\"dslim/bert-large-NER\", force_download=True, resume_download=False)\n",
    "ner = pipeline(\"ner\", model=model_ner, tokenizer=tokenizer_ner)\n"
   ]
  },
  {
   "cell_type": "code",
   "execution_count": 6,
   "id": "0a47cd32",
   "metadata": {},
   "outputs": [
    {
     "name": "stdout",
     "output_type": "stream",
     "text": [
      "[{'entity': 'B-MISC', 'score': 0.997329, 'index': 4, 'word': 'iPhone', 'start': 13, 'end': 19}, {'entity': 'I-MISC', 'score': 0.99431026, 'index': 5, 'word': 'X', 'start': 20, 'end': 21}, {'entity': 'I-MISC', 'score': 0.99741423, 'index': 6, 'word': '##R', 'start': 21, 'end': 22}, {'entity': 'I-MISC', 'score': 0.9688579, 'index': 7, 'word': '2019', 'start': 23, 'end': 27}]\n"
     ]
    }
   ],
   "source": [
    "example = \"Discover the iPhone XR 2019 in this 360° video rendering\"\n",
    "ner_results = ner(example)\n",
    "print(ner_results)"
   ]
  },
  {
   "cell_type": "code",
   "execution_count": 7,
   "id": "79f86190",
   "metadata": {},
   "outputs": [],
   "source": [
    "counter_entity = 0\n",
    "def get_entity(row, word='Apple'):\n",
    "    try:\n",
    "        global counter_entity\n",
    "        counter_entity += 1\n",
    "        if counter_entity % 1000 == 0:\n",
    "            print(\".\",end=\"\")\n",
    "        ner_results = ner(row[\"Title\"])\n",
    "        has_apple_entity = any(entity['word'] == word and entity['entity'] == 'B-ORG' for entity in ner_results)\n",
    "        if has_apple_entity:\n",
    "            for entity in ner_results:\n",
    "                if entity['word'] == word:\n",
    "                    return entity['score']\n",
    "        return 0\n",
    "    except ValueError as e:\n",
    "        return 0"
   ]
  },
  {
   "cell_type": "code",
   "execution_count": 8,
   "id": "5cc4bf16",
   "metadata": {},
   "outputs": [
    {
     "name": "stdout",
     "output_type": "stream",
     "text": [
      "........................."
     ]
    }
   ],
   "source": [
    "df['Entity'] = df.apply(get_entity, axis=1)"
   ]
  },
  {
   "cell_type": "code",
   "execution_count": 9,
   "id": "70fea164",
   "metadata": {},
   "outputs": [
    {
     "data": {
      "text/html": [
       "<div>\n",
       "<style scoped>\n",
       "    .dataframe tbody tr th:only-of-type {\n",
       "        vertical-align: middle;\n",
       "    }\n",
       "\n",
       "    .dataframe tbody tr th {\n",
       "        vertical-align: top;\n",
       "    }\n",
       "\n",
       "    .dataframe thead th {\n",
       "        text-align: right;\n",
       "    }\n",
       "</style>\n",
       "<table border=\"1\" class=\"dataframe\">\n",
       "  <thead>\n",
       "    <tr style=\"text-align: right;\">\n",
       "      <th></th>\n",
       "      <th>Date</th>\n",
       "      <th>Name</th>\n",
       "      <th>Title</th>\n",
       "      <th>Abstract</th>\n",
       "      <th>Embedding</th>\n",
       "      <th>Entity</th>\n",
       "    </tr>\n",
       "  </thead>\n",
       "  <tbody>\n",
       "    <tr>\n",
       "      <th>0</th>\n",
       "      <td>2023-12-31 00:00:00</td>\n",
       "      <td>Hacker News</td>\n",
       "      <td>Cold-blooded software | Hacker News</td>\n",
       "      <td>None</td>\n",
       "      <td>[tensor(0.2399), tensor(-0.1905), tensor(-0.08...</td>\n",
       "      <td>0.0</td>\n",
       "    </tr>\n",
       "    <tr>\n",
       "      <th>1</th>\n",
       "      <td>2023-12-31 00:00:00</td>\n",
       "      <td>ABC News</td>\n",
       "      <td>Displaced, repatriated and crossing borders: A...</td>\n",
       "      <td>The barren desert plain among the mountains of...</td>\n",
       "      <td>[tensor(0.1377), tensor(0.1298), tensor(0.0656...</td>\n",
       "      <td>0.0</td>\n",
       "    </tr>\n",
       "    <tr>\n",
       "      <th>2</th>\n",
       "      <td>2023-12-31 00:00:00</td>\n",
       "      <td>Buzzfeed</td>\n",
       "      <td>34 Products For Anyone Who Self-Identifies As ...</td>\n",
       "      <td>It's this clever attachable Stanley cup snack ...</td>\n",
       "      <td>[tensor(-0.0078), tensor(0.0787), tensor(0.162...</td>\n",
       "      <td>0.0</td>\n",
       "    </tr>\n",
       "    <tr>\n",
       "      <th>3</th>\n",
       "      <td>2023-12-31 00:00:00</td>\n",
       "      <td>ABC News</td>\n",
       "      <td>Laws banning semi-automatic weapons and librar...</td>\n",
       "      <td>Illinois will usher in 320 new laws on New Yea...</td>\n",
       "      <td>[tensor(0.0924), tensor(-0.2601), tensor(-0.28...</td>\n",
       "      <td>0.0</td>\n",
       "    </tr>\n",
       "    <tr>\n",
       "      <th>4</th>\n",
       "      <td>2023-12-31 00:00:00</td>\n",
       "      <td>ABC News</td>\n",
       "      <td>After landmark legislation, Indiana Republican...</td>\n",
       "      <td>Indiana's Republican leaders are calling for a...</td>\n",
       "      <td>[tensor(0.0610), tensor(-0.5290), tensor(0.094...</td>\n",
       "      <td>0.0</td>\n",
       "    </tr>\n",
       "    <tr>\n",
       "      <th>...</th>\n",
       "      <td>...</td>\n",
       "      <td>...</td>\n",
       "      <td>...</td>\n",
       "      <td>...</td>\n",
       "      <td>...</td>\n",
       "      <td>...</td>\n",
       "    </tr>\n",
       "    <tr>\n",
       "      <th>8472</th>\n",
       "      <td>2024-03-07</td>\n",
       "      <td>ABC News</td>\n",
       "      <td>Maine mass shooter 'likely' suffered from trau...</td>\n",
       "      <td>Robert Card, the man who killed 18 in the Lewi...</td>\n",
       "      <td>[tensor(-0.2279), tensor(-0.0601), tensor(-0.1...</td>\n",
       "      <td>0.0</td>\n",
       "    </tr>\n",
       "    <tr>\n",
       "      <th>8473</th>\n",
       "      <td>2024-03-07</td>\n",
       "      <td>CBC News</td>\n",
       "      <td>Pedestrian struck and killed on Gardiner Expre...</td>\n",
       "      <td>A pedestrian was struck and killed by a vehicl...</td>\n",
       "      <td>[tensor(0.0337), tensor(-0.4104), tensor(0.200...</td>\n",
       "      <td>0.0</td>\n",
       "    </tr>\n",
       "    <tr>\n",
       "      <th>8474</th>\n",
       "      <td>2024-03-07</td>\n",
       "      <td>CNN</td>\n",
       "      <td>Single dose of LSD provides immediate, lasting...</td>\n",
       "      <td>One dose of LSD in a clinical trial significan...</td>\n",
       "      <td>[tensor(-0.1561), tensor(-0.0043), tensor(0.11...</td>\n",
       "      <td>0.0</td>\n",
       "    </tr>\n",
       "    <tr>\n",
       "      <th>8475</th>\n",
       "      <td>2024-03-07</td>\n",
       "      <td>BBC News</td>\n",
       "      <td>World's earliest forest discovered, scientists...</td>\n",
       "      <td>The tree fossils dating back 390 million years...</td>\n",
       "      <td>[tensor(-0.1308), tensor(0.1301), tensor(0.090...</td>\n",
       "      <td>0.0</td>\n",
       "    </tr>\n",
       "    <tr>\n",
       "      <th>8476</th>\n",
       "      <td>2024-03-07</td>\n",
       "      <td>Business Insider</td>\n",
       "      <td>Kate Winslet opens up for the first time about...</td>\n",
       "      <td>Kate Winslet, the Oscar-winning actor, talked ...</td>\n",
       "      <td>[tensor(0.1295), tensor(0.2482), tensor(0.1909...</td>\n",
       "      <td>0.0</td>\n",
       "    </tr>\n",
       "  </tbody>\n",
       "</table>\n",
       "<p>25278 rows × 6 columns</p>\n",
       "</div>"
      ],
      "text/plain": [
       "                     Date              Name  \\\n",
       "0     2023-12-31 00:00:00       Hacker News   \n",
       "1     2023-12-31 00:00:00          ABC News   \n",
       "2     2023-12-31 00:00:00          Buzzfeed   \n",
       "3     2023-12-31 00:00:00          ABC News   \n",
       "4     2023-12-31 00:00:00          ABC News   \n",
       "...                   ...               ...   \n",
       "8472           2024-03-07          ABC News   \n",
       "8473           2024-03-07          CBC News   \n",
       "8474           2024-03-07               CNN   \n",
       "8475           2024-03-07          BBC News   \n",
       "8476           2024-03-07  Business Insider   \n",
       "\n",
       "                                                  Title  \\\n",
       "0                   Cold-blooded software | Hacker News   \n",
       "1     Displaced, repatriated and crossing borders: A...   \n",
       "2     34 Products For Anyone Who Self-Identifies As ...   \n",
       "3     Laws banning semi-automatic weapons and librar...   \n",
       "4     After landmark legislation, Indiana Republican...   \n",
       "...                                                 ...   \n",
       "8472  Maine mass shooter 'likely' suffered from trau...   \n",
       "8473  Pedestrian struck and killed on Gardiner Expre...   \n",
       "8474  Single dose of LSD provides immediate, lasting...   \n",
       "8475  World's earliest forest discovered, scientists...   \n",
       "8476  Kate Winslet opens up for the first time about...   \n",
       "\n",
       "                                               Abstract  \\\n",
       "0                                                  None   \n",
       "1     The barren desert plain among the mountains of...   \n",
       "2     It's this clever attachable Stanley cup snack ...   \n",
       "3     Illinois will usher in 320 new laws on New Yea...   \n",
       "4     Indiana's Republican leaders are calling for a...   \n",
       "...                                                 ...   \n",
       "8472  Robert Card, the man who killed 18 in the Lewi...   \n",
       "8473  A pedestrian was struck and killed by a vehicl...   \n",
       "8474  One dose of LSD in a clinical trial significan...   \n",
       "8475  The tree fossils dating back 390 million years...   \n",
       "8476  Kate Winslet, the Oscar-winning actor, talked ...   \n",
       "\n",
       "                                              Embedding  Entity  \n",
       "0     [tensor(0.2399), tensor(-0.1905), tensor(-0.08...     0.0  \n",
       "1     [tensor(0.1377), tensor(0.1298), tensor(0.0656...     0.0  \n",
       "2     [tensor(-0.0078), tensor(0.0787), tensor(0.162...     0.0  \n",
       "3     [tensor(0.0924), tensor(-0.2601), tensor(-0.28...     0.0  \n",
       "4     [tensor(0.0610), tensor(-0.5290), tensor(0.094...     0.0  \n",
       "...                                                 ...     ...  \n",
       "8472  [tensor(-0.2279), tensor(-0.0601), tensor(-0.1...     0.0  \n",
       "8473  [tensor(0.0337), tensor(-0.4104), tensor(0.200...     0.0  \n",
       "8474  [tensor(-0.1561), tensor(-0.0043), tensor(0.11...     0.0  \n",
       "8475  [tensor(-0.1308), tensor(0.1301), tensor(0.090...     0.0  \n",
       "8476  [tensor(0.1295), tensor(0.2482), tensor(0.1909...     0.0  \n",
       "\n",
       "[25278 rows x 6 columns]"
      ]
     },
     "execution_count": 9,
     "metadata": {},
     "output_type": "execute_result"
    }
   ],
   "source": [
    "df"
   ]
  },
  {
   "cell_type": "code",
   "execution_count": 10,
   "id": "e581f0d0",
   "metadata": {},
   "outputs": [
    {
     "data": {
      "text/plain": [
       "0.000000    25109\n",
       "0.881936        4\n",
       "0.557219        4\n",
       "0.987551        3\n",
       "0.963524        3\n",
       "            ...  \n",
       "0.997449        1\n",
       "0.991939        1\n",
       "0.985825        1\n",
       "0.996779        1\n",
       "0.994468        1\n",
       "Name: Entity, Length: 157, dtype: int64"
      ]
     },
     "execution_count": 10,
     "metadata": {},
     "output_type": "execute_result"
    }
   ],
   "source": [
    "# make that df gives the quantity of entities that are = 1\n",
    "# make that df gives the quantity of entities that are = 0\n",
    "\n",
    "df['Entity'].value_counts()"
   ]
  },
  {
   "cell_type": "code",
   "execution_count": 11,
   "id": "e6a04493",
   "metadata": {},
   "outputs": [
    {
     "data": {
      "text/plain": [
       "25278"
      ]
     },
     "execution_count": 11,
     "metadata": {},
     "output_type": "execute_result"
    }
   ],
   "source": [
    "len(df)"
   ]
  },
  {
   "cell_type": "markdown",
   "id": "37c37227",
   "metadata": {},
   "source": [
    "Analysis of null elements and some minor transformation"
   ]
  },
  {
   "cell_type": "code",
   "execution_count": null,
   "id": "db142039",
   "metadata": {},
   "outputs": [],
   "source": [
    "# count NoneType in Embedding\n",
    "df['Embedding'].isnull().sum()"
   ]
  },
  {
   "cell_type": "code",
   "execution_count": null,
   "id": "699c733f",
   "metadata": {},
   "outputs": [],
   "source": [
    "# delete NoneType in Embedding\n",
    "df = df.dropna(subset=['Embedding'])"
   ]
  },
  {
   "cell_type": "code",
   "execution_count": 17,
   "id": "ae1a1bd4",
   "metadata": {},
   "outputs": [
    {
     "data": {
      "text/plain": [
       "2"
      ]
     },
     "execution_count": 17,
     "metadata": {},
     "output_type": "execute_result"
    }
   ],
   "source": [
    "def tensor_to_np(tensor):\n",
    "    return tensor.numpy()\n",
    "df['Embedding'] = df['Embedding'].apply(tensor_to_np)"
   ]
  },
  {
   "cell_type": "code",
   "execution_count": 12,
   "id": "849884b7",
   "metadata": {},
   "outputs": [],
   "source": [
    "df.to_pickle('df embedding and entity- 1 janvier to 7 mars')"
   ]
  },
  {
   "cell_type": "code",
   "execution_count": 13,
   "id": "2bcecb86",
   "metadata": {},
   "outputs": [],
   "source": [
    "df = pd.read_pickle('df embedding and entity- 1 janvier to 7 mars')"
   ]
  },
  {
   "cell_type": "markdown",
   "id": "27cb81a6",
   "metadata": {},
   "source": [
    "#### Third NLP model: Sentiment Analysis with Transformers\n",
    "\n",
    "We introduce a tool for sentiment analysis leveraging transformer-based models. Sentiment analysis aims to determine the sentiment or emotion expressed in a piece of text, such as positive, negative, or neutral.\n",
    "\n",
    "For our sentiment analysis task, we will utilize the pipeline function from the transformers library, enabling us to quickly deploy a pre-trained sentiment analysis model with minimal code. The model used by default in this pipeline is well-suited for sentiment analysis tasks and has been fine-tuned on large sentiment analysis datasets to accurately predict the sentiment of input text."
   ]
  },
  {
   "cell_type": "code",
   "execution_count": null,
   "id": "c9017da5",
   "metadata": {},
   "outputs": [],
   "source": [
    "# from transformers import AutoTokenizer, AutoModelForTokenClassification, pipeline\n",
    "\n",
    "# sentiment_analyzer = pipeline(\"sentiment-analysis\")"
   ]
  },
  {
   "cell_type": "code",
   "execution_count": null,
   "id": "55ead8e2",
   "metadata": {},
   "outputs": [],
   "source": [
    "# Usar el de sentimientos buenos neutral y malo\n",
    "# def get_sentiment_score(row):\n",
    "#     title = row[\"Title\"] if row[\"Title\"] else \"\"\n",
    "    \n",
    "#     # Check if the text is not empty\n",
    "#     if title:\n",
    "#         result = sentiment_analyzer(title)[0]\n",
    "#         score = result['score']\n",
    "#         return score if result['label'] == 'POSITIVE' else -score\n",
    "#     else:\n",
    "#         return 0.0  "
   ]
  },
  {
   "cell_type": "code",
   "execution_count": null,
   "id": "286322a4",
   "metadata": {},
   "outputs": [],
   "source": [
    "# counter = 0\n",
    "# def embedding_of_title(row):\n",
    "#     global counter\n",
    "#     counter += 1\n",
    "#     if counter % 1000 == 0:\n",
    "#         print(\".\",end=\"\")\n",
    "#     return get_embedding(row['Title']).numpy()  \n",
    "# def embedding_of_abstract(row):\n",
    "#     global counter\n",
    "#     counter += 1\n",
    "#     if counter % 1000 == 0:\n",
    "#         print(\".\",end=\"\")\n",
    "#     return get_embedding(row['Abstract']).numpy()  "
   ]
  },
  {
   "cell_type": "markdown",
   "id": "0b3898ae",
   "metadata": {},
   "source": [
    "#### Clustering Analysis with KMeans\n",
    "\n",
    "In this section, we will delve into the process of clustering using the KMeans algorithm. Clustering is a fundamental unsupervised learning technique that aims to group similar data points together into clusters, thereby revealing underlying patterns and structures within the data.\n",
    "\n",
    "We will utilize the `KMeans` algorithm from the `sklearn.cluster` module to partition our data into distinct clusters. This algorithm requires the number of clusters (`K`) as a hyperparameter, which we will determine using an elbow method.\n",
    "\n",
    "\n",
    "To determine Optimal Number of Clusters (K), we will employ the elbow method to determine the optimal number of clusters (`K`). This method involves running the KMeans algorithm for different values of `K` and plotting the within-cluster sum of squared distances (inertia) against `K`. The point where the inertia starts to decrease at a slower rate indicates the optimal number of clusters.\n",
    "\n",
    "\n",
    "By following these steps, we will be able to identify meaningful clusters within our data, providing valuable insights into the underlying structure and relationships within the text embeddings."
   ]
  },
  {
   "cell_type": "code",
   "execution_count": 20,
   "id": "07c57734",
   "metadata": {},
   "outputs": [],
   "source": [
    "from sklearn.cluster import KMeans\n",
    "\n",
    "# Concatenate the arrays from the 'embedding' column\n",
    "data = np.concatenate(df['Embedding'].values)\n",
    "\n",
    "# Reshape the data to have shape (n_samples, n_features)\n",
    "# Since each embedding has 768 features, and there are multiple embeddings,\n",
    "# we reshape it to (-1, 768)\n",
    "data = data.reshape(-1, 768)"
   ]
  },
  {
   "cell_type": "code",
   "execution_count": 21,
   "id": "1268bd2c",
   "metadata": {},
   "outputs": [],
   "source": [
    "import math\n",
    "infinito = math.inf"
   ]
  },
  {
   "cell_type": "code",
   "execution_count": 22,
   "id": "9de69244",
   "metadata": {},
   "outputs": [
    {
     "name": "stdout",
     "output_type": "stream",
     "text": [
      "..............."
     ]
    }
   ],
   "source": [
    "Sum_of_squared_distances = []\n",
    "K = range(15,30)\n",
    "better_models = list()\n",
    "for k in K:\n",
    "    print(\".\",end=\"\")\n",
    "    smallest_inertia = infinito\n",
    "    km_final = None\n",
    "    # range depende de K\n",
    "    for i in range(10):\n",
    "        km = KMeans(n_clusters=k)\n",
    "        km = km.fit(data)\n",
    "        if km.inertia_ <= smallest_inertia:\n",
    "            smallest_inertia = km.inertia_\n",
    "            km_final = km\n",
    "    better_models.append(km_final)\n",
    "    Sum_of_squared_distances.append(km_final.inertia_)"
   ]
  },
  {
   "cell_type": "code",
   "execution_count": 23,
   "id": "43412f4a",
   "metadata": {},
   "outputs": [
    {
     "data": {
      "image/png": "[encoded data removed]",
      "text/plain": [
       "<Figure size 640x480 with 1 Axes>"
      ]
     },
     "metadata": {},
     "output_type": "display_data"
    }
   ],
   "source": [
    "plt.plot(K, Sum_of_squared_distances, 'bx-')\n",
    "plt.xlabel('k')\n",
    "plt.ylabel('Sum_of_squared_distances')\n",
    "plt.title('Elbow Method For Optimal k')\n",
    "plt.show()"
   ]
  },
  {
   "cell_type": "code",
   "execution_count": 25,
   "id": "c1bb778d",
   "metadata": {},
   "outputs": [
    {
     "data": {
      "text/html": [
       "<style>#sk-container-id-1 {\n",
       "  /* Definition of color scheme common for light and dark mode */\n",
       "  --sklearn-color-text: black;\n",
       "  --sklearn-color-line: gray;\n",
       "  /* Definition of color scheme for unfitted estimators */\n",
       "  --sklearn-color-unfitted-level-0: #fff5e6;\n",
       "  --sklearn-color-unfitted-level-1: #f6e4d2;\n",
       "  --sklearn-color-unfitted-level-2: #ffe0b3;\n",
       "  --sklearn-color-unfitted-level-3: chocolate;\n",
       "  /* Definition of color scheme for fitted estimators */\n",
       "  --sklearn-color-fitted-level-0: #f0f8ff;\n",
       "  --sklearn-color-fitted-level-1: #d4ebff;\n",
       "  --sklearn-color-fitted-level-2: #b3dbfd;\n",
       "  --sklearn-color-fitted-level-3: cornflowerblue;\n",
       "\n",
       "  /* Specific color for light theme */\n",
       "  --sklearn-color-text-on-default-background: var(--sg-text-color, var(--theme-code-foreground, var(--jp-content-font-color1, black)));\n",
       "  --sklearn-color-background: var(--sg-background-color, var(--theme-background, var(--jp-layout-color0, white)));\n",
       "  --sklearn-color-border-box: var(--sg-text-color, var(--theme-code-foreground, var(--jp-content-font-color1, black)));\n",
       "  --sklearn-color-icon: #696969;\n",
       "\n",
       "  @media (prefers-color-scheme: dark) {\n",
       "    /* Redefinition of color scheme for dark theme */\n",
       "    --sklearn-color-text-on-default-background: var(--sg-text-color, var(--theme-code-foreground, var(--jp-content-font-color1, white)));\n",
       "    --sklearn-color-background: var(--sg-background-color, var(--theme-background, var(--jp-layout-color0, #111)));\n",
       "    --sklearn-color-border-box: var(--sg-text-color, var(--theme-code-foreground, var(--jp-content-font-color1, white)));\n",
       "    --sklearn-color-icon: #878787;\n",
       "  }\n",
       "}\n",
       "\n",
       "#sk-container-id-1 {\n",
       "  color: var(--sklearn-color-text);\n",
       "}\n",
       "\n",
       "#sk-container-id-1 pre {\n",
       "  padding: 0;\n",
       "}\n",
       "\n",
       "#sk-container-id-1 input.sk-hidden--visually {\n",
       "  border: 0;\n",
       "  clip: rect(1px 1px 1px 1px);\n",
       "  clip: rect(1px, 1px, 1px, 1px);\n",
       "  height: 1px;\n",
       "  margin: -1px;\n",
       "  overflow: hidden;\n",
       "  padding: 0;\n",
       "  position: absolute;\n",
       "  width: 1px;\n",
       "}\n",
       "\n",
       "#sk-container-id-1 div.sk-dashed-wrapped {\n",
       "  border: 1px dashed var(--sklearn-color-line);\n",
       "  margin: 0 0.4em 0.5em 0.4em;\n",
       "  box-sizing: border-box;\n",
       "  padding-bottom: 0.4em;\n",
       "  background-color: var(--sklearn-color-background);\n",
       "}\n",
       "\n",
       "#sk-container-id-1 div.sk-container {\n",
       "  /* jupyter's `normalize.less` sets `[hidden] { display: none; }`\n",
       "     but bootstrap.min.css set `[hidden] { display: none !important; }`\n",
       "     so we also need the `!important` here to be able to override the\n",
       "     default hidden behavior on the sphinx rendered scikit-learn.org.\n",
       "     See: https://github.com/scikit-learn/scikit-learn/issues/21755 */\n",
       "  display: inline-block !important;\n",
       "  position: relative;\n",
       "}\n",
       "\n",
       "#sk-container-id-1 div.sk-text-repr-fallback {\n",
       "  display: none;\n",
       "}\n",
       "\n",
       "div.sk-parallel-item,\n",
       "div.sk-serial,\n",
       "div.sk-item {\n",
       "  /* draw centered vertical line to link estimators */\n",
       "  background-image: linear-gradient(var(--sklearn-color-text-on-default-background), var(--sklearn-color-text-on-default-background));\n",
       "  background-size: 2px 100%;\n",
       "  background-repeat: no-repeat;\n",
       "  background-position: center center;\n",
       "}\n",
       "\n",
       "/* Parallel-specific style estimator block */\n",
       "\n",
       "#sk-container-id-1 div.sk-parallel-item::after {\n",
       "  content: \"\";\n",
       "  width: 100%;\n",
       "  border-bottom: 2px solid var(--sklearn-color-text-on-default-background);\n",
       "  flex-grow: 1;\n",
       "}\n",
       "\n",
       "#sk-container-id-1 div.sk-parallel {\n",
       "  display: flex;\n",
       "  align-items: stretch;\n",
       "  justify-content: center;\n",
       "  background-color: var(--sklearn-color-background);\n",
       "  position: relative;\n",
       "}\n",
       "\n",
       "#sk-container-id-1 div.sk-parallel-item {\n",
       "  display: flex;\n",
       "  flex-direction: column;\n",
       "}\n",
       "\n",
       "#sk-container-id-1 div.sk-parallel-item:first-child::after {\n",
       "  align-self: flex-end;\n",
       "  width: 50%;\n",
       "}\n",
       "\n",
       "#sk-container-id-1 div.sk-parallel-item:last-child::after {\n",
       "  align-self: flex-start;\n",
       "  width: 50%;\n",
       "}\n",
       "\n",
       "#sk-container-id-1 div.sk-parallel-item:only-child::after {\n",
       "  width: 0;\n",
       "}\n",
       "\n",
       "/* Serial-specific style estimator block */\n",
       "\n",
       "#sk-container-id-1 div.sk-serial {\n",
       "  display: flex;\n",
       "  flex-direction: column;\n",
       "  align-items: center;\n",
       "  background-color: var(--sklearn-color-background);\n",
       "  padding-right: 1em;\n",
       "  padding-left: 1em;\n",
       "}\n",
       "\n",
       "\n",
       "/* Toggleable style: style used for estimator/Pipeline/ColumnTransformer box that is\n",
       "clickable and can be expanded/collapsed.\n",
       "- Pipeline and ColumnTransformer use this feature and define the default style\n",
       "- Estimators will overwrite some part of the style using the `sk-estimator` class\n",
       "*/\n",
       "\n",
       "/* Pipeline and ColumnTransformer style (default) */\n",
       "\n",
       "#sk-container-id-1 div.sk-toggleable {\n",
       "  /* Default theme specific background. It is overwritten whether we have a\n",
       "  specific estimator or a Pipeline/ColumnTransformer */\n",
       "  background-color: var(--sklearn-color-background);\n",
       "}\n",
       "\n",
       "/* Toggleable label */\n",
       "#sk-container-id-1 label.sk-toggleable__label {\n",
       "  cursor: pointer;\n",
       "  display: block;\n",
       "  width: 100%;\n",
       "  margin-bottom: 0;\n",
       "  padding: 0.5em;\n",
       "  box-sizing: border-box;\n",
       "  text-align: center;\n",
       "}\n",
       "\n",
       "#sk-container-id-1 label.sk-toggleable__label-arrow:before {\n",
       "  /* Arrow on the left of the label */\n",
       "  content: \"▸\";\n",
       "  float: left;\n",
       "  margin-right: 0.25em;\n",
       "  color: var(--sklearn-color-icon);\n",
       "}\n",
       "\n",
       "#sk-container-id-1 label.sk-toggleable__label-arrow:hover:before {\n",
       "  color: var(--sklearn-color-text);\n",
       "}\n",
       "\n",
       "/* Toggleable content - dropdown */\n",
       "\n",
       "#sk-container-id-1 div.sk-toggleable__content {\n",
       "  max-height: 0;\n",
       "  max-width: 0;\n",
       "  overflow: hidden;\n",
       "  text-align: left;\n",
       "  /* unfitted */\n",
       "  background-color: var(--sklearn-color-unfitted-level-0);\n",
       "}\n",
       "\n",
       "#sk-container-id-1 div.sk-toggleable__content.fitted {\n",
       "  /* fitted */\n",
       "  background-color: var(--sklearn-color-fitted-level-0);\n",
       "}\n",
       "\n",
       "#sk-container-id-1 div.sk-toggleable__content pre {\n",
       "  margin: 0.2em;\n",
       "  border-radius: 0.25em;\n",
       "  color: var(--sklearn-color-text);\n",
       "  /* unfitted */\n",
       "  background-color: var(--sklearn-color-unfitted-level-0);\n",
       "}\n",
       "\n",
       "#sk-container-id-1 div.sk-toggleable__content.fitted pre {\n",
       "  /* unfitted */\n",
       "  background-color: var(--sklearn-color-fitted-level-0);\n",
       "}\n",
       "\n",
       "#sk-container-id-1 input.sk-toggleable__control:checked~div.sk-toggleable__content {\n",
       "  /* Expand drop-down */\n",
       "  max-height: 200px;\n",
       "  max-width: 100%;\n",
       "  overflow: auto;\n",
       "}\n",
       "\n",
       "#sk-container-id-1 input.sk-toggleable__control:checked~label.sk-toggleable__label-arrow:before {\n",
       "  content: \"▾\";\n",
       "}\n",
       "\n",
       "/* Pipeline/ColumnTransformer-specific style */\n",
       "\n",
       "#sk-container-id-1 div.sk-label input.sk-toggleable__control:checked~label.sk-toggleable__label {\n",
       "  color: var(--sklearn-color-text);\n",
       "  background-color: var(--sklearn-color-unfitted-level-2);\n",
       "}\n",
       "\n",
       "#sk-container-id-1 div.sk-label.fitted input.sk-toggleable__control:checked~label.sk-toggleable__label {\n",
       "  background-color: var(--sklearn-color-fitted-level-2);\n",
       "}\n",
       "\n",
       "/* Estimator-specific style */\n",
       "\n",
       "/* Colorize estimator box */\n",
       "#sk-container-id-1 div.sk-estimator input.sk-toggleable__control:checked~label.sk-toggleable__label {\n",
       "  /* unfitted */\n",
       "  background-color: var(--sklearn-color-unfitted-level-2);\n",
       "}\n",
       "\n",
       "#sk-container-id-1 div.sk-estimator.fitted input.sk-toggleable__control:checked~label.sk-toggleable__label {\n",
       "  /* fitted */\n",
       "  background-color: var(--sklearn-color-fitted-level-2);\n",
       "}\n",
       "\n",
       "#sk-container-id-1 div.sk-label label.sk-toggleable__label,\n",
       "#sk-container-id-1 div.sk-label label {\n",
       "  /* The background is the default theme color */\n",
       "  color: var(--sklearn-color-text-on-default-background);\n",
       "}\n",
       "\n",
       "/* On hover, darken the color of the background */\n",
       "#sk-container-id-1 div.sk-label:hover label.sk-toggleable__label {\n",
       "  color: var(--sklearn-color-text);\n",
       "  background-color: var(--sklearn-color-unfitted-level-2);\n",
       "}\n",
       "\n",
       "/* Label box, darken color on hover, fitted */\n",
       "#sk-container-id-1 div.sk-label.fitted:hover label.sk-toggleable__label.fitted {\n",
       "  color: var(--sklearn-color-text);\n",
       "  background-color: var(--sklearn-color-fitted-level-2);\n",
       "}\n",
       "\n",
       "/* Estimator label */\n",
       "\n",
       "#sk-container-id-1 div.sk-label label {\n",
       "  font-family: monospace;\n",
       "  font-weight: bold;\n",
       "  display: inline-block;\n",
       "  line-height: 1.2em;\n",
       "}\n",
       "\n",
       "#sk-container-id-1 div.sk-label-container {\n",
       "  text-align: center;\n",
       "}\n",
       "\n",
       "/* Estimator-specific */\n",
       "#sk-container-id-1 div.sk-estimator {\n",
       "  font-family: monospace;\n",
       "  border: 1px dotted var(--sklearn-color-border-box);\n",
       "  border-radius: 0.25em;\n",
       "  box-sizing: border-box;\n",
       "  margin-bottom: 0.5em;\n",
       "  /* unfitted */\n",
       "  background-color: var(--sklearn-color-unfitted-level-0);\n",
       "}\n",
       "\n",
       "#sk-container-id-1 div.sk-estimator.fitted {\n",
       "  /* fitted */\n",
       "  background-color: var(--sklearn-color-fitted-level-0);\n",
       "}\n",
       "\n",
       "/* on hover */\n",
       "#sk-container-id-1 div.sk-estimator:hover {\n",
       "  /* unfitted */\n",
       "  background-color: var(--sklearn-color-unfitted-level-2);\n",
       "}\n",
       "\n",
       "#sk-container-id-1 div.sk-estimator.fitted:hover {\n",
       "  /* fitted */\n",
       "  background-color: var(--sklearn-color-fitted-level-2);\n",
       "}\n",
       "\n",
       "/* Specification for estimator info (e.g. \"i\" and \"?\") */\n",
       "\n",
       "/* Common style for \"i\" and \"?\" */\n",
       "\n",
       ".sk-estimator-doc-link,\n",
       "a:link.sk-estimator-doc-link,\n",
       "a:visited.sk-estimator-doc-link {\n",
       "  float: right;\n",
       "  font-size: smaller;\n",
       "  line-height: 1em;\n",
       "  font-family: monospace;\n",
       "  background-color: var(--sklearn-color-background);\n",
       "  border-radius: 1em;\n",
       "  height: 1em;\n",
       "  width: 1em;\n",
       "  text-decoration: none !important;\n",
       "  margin-left: 1ex;\n",
       "  /* unfitted */\n",
       "  border: var(--sklearn-color-unfitted-level-1) 1pt solid;\n",
       "  color: var(--sklearn-color-unfitted-level-1);\n",
       "}\n",
       "\n",
       ".sk-estimator-doc-link.fitted,\n",
       "a:link.sk-estimator-doc-link.fitted,\n",
       "a:visited.sk-estimator-doc-link.fitted {\n",
       "  /* fitted */\n",
       "  border: var(--sklearn-color-fitted-level-1) 1pt solid;\n",
       "  color: var(--sklearn-color-fitted-level-1);\n",
       "}\n",
       "\n",
       "/* On hover */\n",
       "div.sk-estimator:hover .sk-estimator-doc-link:hover,\n",
       ".sk-estimator-doc-link:hover,\n",
       "div.sk-label-container:hover .sk-estimator-doc-link:hover,\n",
       ".sk-estimator-doc-link:hover {\n",
       "  /* unfitted */\n",
       "  background-color: var(--sklearn-color-unfitted-level-3);\n",
       "  color: var(--sklearn-color-background);\n",
       "  text-decoration: none;\n",
       "}\n",
       "\n",
       "div.sk-estimator.fitted:hover .sk-estimator-doc-link.fitted:hover,\n",
       ".sk-estimator-doc-link.fitted:hover,\n",
       "div.sk-label-container:hover .sk-estimator-doc-link.fitted:hover,\n",
       ".sk-estimator-doc-link.fitted:hover {\n",
       "  /* fitted */\n",
       "  background-color: var(--sklearn-color-fitted-level-3);\n",
       "  color: var(--sklearn-color-background);\n",
       "  text-decoration: none;\n",
       "}\n",
       "\n",
       "/* Span, style for the box shown on hovering the info icon */\n",
       ".sk-estimator-doc-link span {\n",
       "  display: none;\n",
       "  z-index: 9999;\n",
       "  position: relative;\n",
       "  font-weight: normal;\n",
       "  right: .2ex;\n",
       "  padding: .5ex;\n",
       "  margin: .5ex;\n",
       "  width: min-content;\n",
       "  min-width: 20ex;\n",
       "  max-width: 50ex;\n",
       "  color: var(--sklearn-color-text);\n",
       "  box-shadow: 2pt 2pt 4pt #999;\n",
       "  /* unfitted */\n",
       "  background: var(--sklearn-color-unfitted-level-0);\n",
       "  border: .5pt solid var(--sklearn-color-unfitted-level-3);\n",
       "}\n",
       "\n",
       ".sk-estimator-doc-link.fitted span {\n",
       "  /* fitted */\n",
       "  background: var(--sklearn-color-fitted-level-0);\n",
       "  border: var(--sklearn-color-fitted-level-3);\n",
       "}\n",
       "\n",
       ".sk-estimator-doc-link:hover span {\n",
       "  display: block;\n",
       "}\n",
       "\n",
       "/* \"?\"-specific style due to the `<a>` HTML tag */\n",
       "\n",
       "#sk-container-id-1 a.estimator_doc_link {\n",
       "  float: right;\n",
       "  font-size: 1rem;\n",
       "  line-height: 1em;\n",
       "  font-family: monospace;\n",
       "  background-color: var(--sklearn-color-background);\n",
       "  border-radius: 1rem;\n",
       "  height: 1rem;\n",
       "  width: 1rem;\n",
       "  text-decoration: none;\n",
       "  /* unfitted */\n",
       "  color: var(--sklearn-color-unfitted-level-1);\n",
       "  border: var(--sklearn-color-unfitted-level-1) 1pt solid;\n",
       "}\n",
       "\n",
       "#sk-container-id-1 a.estimator_doc_link.fitted {\n",
       "  /* fitted */\n",
       "  border: var(--sklearn-color-fitted-level-1) 1pt solid;\n",
       "  color: var(--sklearn-color-fitted-level-1);\n",
       "}\n",
       "\n",
       "/* On hover */\n",
       "#sk-container-id-1 a.estimator_doc_link:hover {\n",
       "  /* unfitted */\n",
       "  background-color: var(--sklearn-color-unfitted-level-3);\n",
       "  color: var(--sklearn-color-background);\n",
       "  text-decoration: none;\n",
       "}\n",
       "\n",
       "#sk-container-id-1 a.estimator_doc_link.fitted:hover {\n",
       "  /* fitted */\n",
       "  background-color: var(--sklearn-color-fitted-level-3);\n",
       "}\n",
       "</style><div id=\"sk-container-id-1\" class=\"sk-top-container\"><div class=\"sk-text-repr-fallback\"><pre>KMeans(n_clusters=25)</pre><b>In a Jupyter environment, please rerun this cell to show the HTML representation or trust the notebook. <br />On GitHub, the HTML representation is unable to render, please try loading this page with nbviewer.org.</b></div><div class=\"sk-container\" hidden><div class=\"sk-item\"><div class=\"sk-estimator fitted sk-toggleable\"><input class=\"sk-toggleable__control sk-hidden--visually\" id=\"sk-estimator-id-1\" type=\"checkbox\" checked><label for=\"sk-estimator-id-1\" class=\"sk-toggleable__label fitted sk-toggleable__label-arrow fitted\">&nbsp;&nbsp;KMeans<a class=\"sk-estimator-doc-link fitted\" rel=\"noreferrer\" target=\"_blank\" href=\"https://scikit-learn.org/1.4/modules/generated/sklearn.cluster.KMeans.html\">?<span>Documentation for KMeans</span></a><span class=\"sk-estimator-doc-link fitted\">i<span>Fitted</span></span></label><div class=\"sk-toggleable__content fitted\"><pre>KMeans(n_clusters=25)</pre></div> </div></div></div></div>"
      ],
      "text/plain": [
       "KMeans(n_clusters=25)"
      ]
     },
     "execution_count": 25,
     "metadata": {},
     "output_type": "execute_result"
    }
   ],
   "source": [
    "best_model = better_models[25-15]\n",
    "best_model"
   ]
  },
  {
   "cell_type": "code",
   "execution_count": 26,
   "id": "36a06f3e",
   "metadata": {},
   "outputs": [],
   "source": [
    "df['Cluster'] = best_model.labels_.tolist()"
   ]
  },
  {
   "cell_type": "code",
   "execution_count": 27,
   "id": "0a5c1dc7",
   "metadata": {},
   "outputs": [
    {
     "data": {
      "text/html": [
       "<div>\n",
       "<style scoped>\n",
       "    .dataframe tbody tr th:only-of-type {\n",
       "        vertical-align: middle;\n",
       "    }\n",
       "\n",
       "    .dataframe tbody tr th {\n",
       "        vertical-align: top;\n",
       "    }\n",
       "\n",
       "    .dataframe thead th {\n",
       "        text-align: right;\n",
       "    }\n",
       "</style>\n",
       "<table border=\"1\" class=\"dataframe\">\n",
       "  <thead>\n",
       "    <tr style=\"text-align: right;\">\n",
       "      <th></th>\n",
       "      <th>Date</th>\n",
       "      <th>Name</th>\n",
       "      <th>Title</th>\n",
       "      <th>Abstract</th>\n",
       "      <th>Embedding</th>\n",
       "      <th>Entity</th>\n",
       "      <th>Cluster</th>\n",
       "    </tr>\n",
       "  </thead>\n",
       "  <tbody>\n",
       "    <tr>\n",
       "      <th>0</th>\n",
       "      <td>2023-12-31 00:00:00</td>\n",
       "      <td>Hacker News</td>\n",
       "      <td>Cold-blooded software | Hacker News</td>\n",
       "      <td>None</td>\n",
       "      <td>[0.2399339, -0.19047374, -0.08786014, 0.028991...</td>\n",
       "      <td>0.0</td>\n",
       "      <td>8</td>\n",
       "    </tr>\n",
       "    <tr>\n",
       "      <th>1</th>\n",
       "      <td>2023-12-31 00:00:00</td>\n",
       "      <td>ABC News</td>\n",
       "      <td>Displaced, repatriated and crossing borders: A...</td>\n",
       "      <td>The barren desert plain among the mountains of...</td>\n",
       "      <td>[0.13767257, 0.12975843, 0.06555537, 0.0827153...</td>\n",
       "      <td>0.0</td>\n",
       "      <td>6</td>\n",
       "    </tr>\n",
       "    <tr>\n",
       "      <th>2</th>\n",
       "      <td>2023-12-31 00:00:00</td>\n",
       "      <td>Buzzfeed</td>\n",
       "      <td>34 Products For Anyone Who Self-Identifies As ...</td>\n",
       "      <td>It's this clever attachable Stanley cup snack ...</td>\n",
       "      <td>[-0.007809721, 0.07871487, 0.16217521, -0.1808...</td>\n",
       "      <td>0.0</td>\n",
       "      <td>21</td>\n",
       "    </tr>\n",
       "    <tr>\n",
       "      <th>3</th>\n",
       "      <td>2023-12-31 00:00:00</td>\n",
       "      <td>ABC News</td>\n",
       "      <td>Laws banning semi-automatic weapons and librar...</td>\n",
       "      <td>Illinois will usher in 320 new laws on New Yea...</td>\n",
       "      <td>[0.09242323, -0.26005897, -0.2887374, -0.12380...</td>\n",
       "      <td>0.0</td>\n",
       "      <td>7</td>\n",
       "    </tr>\n",
       "    <tr>\n",
       "      <th>4</th>\n",
       "      <td>2023-12-31 00:00:00</td>\n",
       "      <td>ABC News</td>\n",
       "      <td>After landmark legislation, Indiana Republican...</td>\n",
       "      <td>Indiana's Republican leaders are calling for a...</td>\n",
       "      <td>[0.06100006, -0.529024, 0.09432596, -0.147633,...</td>\n",
       "      <td>0.0</td>\n",
       "      <td>7</td>\n",
       "    </tr>\n",
       "    <tr>\n",
       "      <th>...</th>\n",
       "      <td>...</td>\n",
       "      <td>...</td>\n",
       "      <td>...</td>\n",
       "      <td>...</td>\n",
       "      <td>...</td>\n",
       "      <td>...</td>\n",
       "      <td>...</td>\n",
       "    </tr>\n",
       "    <tr>\n",
       "      <th>8472</th>\n",
       "      <td>2024-03-07</td>\n",
       "      <td>ABC News</td>\n",
       "      <td>Maine mass shooter 'likely' suffered from trau...</td>\n",
       "      <td>Robert Card, the man who killed 18 in the Lewi...</td>\n",
       "      <td>[-0.2279381, -0.060110323, -0.10384234, -0.172...</td>\n",
       "      <td>0.0</td>\n",
       "      <td>4</td>\n",
       "    </tr>\n",
       "    <tr>\n",
       "      <th>8473</th>\n",
       "      <td>2024-03-07</td>\n",
       "      <td>CBC News</td>\n",
       "      <td>Pedestrian struck and killed on Gardiner Expre...</td>\n",
       "      <td>A pedestrian was struck and killed by a vehicl...</td>\n",
       "      <td>[0.033664487, -0.41040722, 0.20053227, 0.06452...</td>\n",
       "      <td>0.0</td>\n",
       "      <td>4</td>\n",
       "    </tr>\n",
       "    <tr>\n",
       "      <th>8474</th>\n",
       "      <td>2024-03-07</td>\n",
       "      <td>CNN</td>\n",
       "      <td>Single dose of LSD provides immediate, lasting...</td>\n",
       "      <td>One dose of LSD in a clinical trial significan...</td>\n",
       "      <td>[-0.15608352, -0.0043046027, 0.11045892, -0.09...</td>\n",
       "      <td>0.0</td>\n",
       "      <td>1</td>\n",
       "    </tr>\n",
       "    <tr>\n",
       "      <th>8475</th>\n",
       "      <td>2024-03-07</td>\n",
       "      <td>BBC News</td>\n",
       "      <td>World's earliest forest discovered, scientists...</td>\n",
       "      <td>The tree fossils dating back 390 million years...</td>\n",
       "      <td>[-0.13077906, 0.13013381, 0.09061687, -0.08378...</td>\n",
       "      <td>0.0</td>\n",
       "      <td>19</td>\n",
       "    </tr>\n",
       "    <tr>\n",
       "      <th>8476</th>\n",
       "      <td>2024-03-07</td>\n",
       "      <td>Business Insider</td>\n",
       "      <td>Kate Winslet opens up for the first time about...</td>\n",
       "      <td>Kate Winslet, the Oscar-winning actor, talked ...</td>\n",
       "      <td>[0.12945966, 0.24823509, 0.19090202, -0.465580...</td>\n",
       "      <td>0.0</td>\n",
       "      <td>9</td>\n",
       "    </tr>\n",
       "  </tbody>\n",
       "</table>\n",
       "<p>25276 rows × 7 columns</p>\n",
       "</div>"
      ],
      "text/plain": [
       "                     Date              Name  \\\n",
       "0     2023-12-31 00:00:00       Hacker News   \n",
       "1     2023-12-31 00:00:00          ABC News   \n",
       "2     2023-12-31 00:00:00          Buzzfeed   \n",
       "3     2023-12-31 00:00:00          ABC News   \n",
       "4     2023-12-31 00:00:00          ABC News   \n",
       "...                   ...               ...   \n",
       "8472           2024-03-07          ABC News   \n",
       "8473           2024-03-07          CBC News   \n",
       "8474           2024-03-07               CNN   \n",
       "8475           2024-03-07          BBC News   \n",
       "8476           2024-03-07  Business Insider   \n",
       "\n",
       "                                                  Title  \\\n",
       "0                   Cold-blooded software | Hacker News   \n",
       "1     Displaced, repatriated and crossing borders: A...   \n",
       "2     34 Products For Anyone Who Self-Identifies As ...   \n",
       "3     Laws banning semi-automatic weapons and librar...   \n",
       "4     After landmark legislation, Indiana Republican...   \n",
       "...                                                 ...   \n",
       "8472  Maine mass shooter 'likely' suffered from trau...   \n",
       "8473  Pedestrian struck and killed on Gardiner Expre...   \n",
       "8474  Single dose of LSD provides immediate, lasting...   \n",
       "8475  World's earliest forest discovered, scientists...   \n",
       "8476  Kate Winslet opens up for the first time about...   \n",
       "\n",
       "                                               Abstract  \\\n",
       "0                                                  None   \n",
       "1     The barren desert plain among the mountains of...   \n",
       "2     It's this clever attachable Stanley cup snack ...   \n",
       "3     Illinois will usher in 320 new laws on New Yea...   \n",
       "4     Indiana's Republican leaders are calling for a...   \n",
       "...                                                 ...   \n",
       "8472  Robert Card, the man who killed 18 in the Lewi...   \n",
       "8473  A pedestrian was struck and killed by a vehicl...   \n",
       "8474  One dose of LSD in a clinical trial significan...   \n",
       "8475  The tree fossils dating back 390 million years...   \n",
       "8476  Kate Winslet, the Oscar-winning actor, talked ...   \n",
       "\n",
       "                                              Embedding  Entity  Cluster  \n",
       "0     [0.2399339, -0.19047374, -0.08786014, 0.028991...     0.0        8  \n",
       "1     [0.13767257, 0.12975843, 0.06555537, 0.0827153...     0.0        6  \n",
       "2     [-0.007809721, 0.07871487, 0.16217521, -0.1808...     0.0       21  \n",
       "3     [0.09242323, -0.26005897, -0.2887374, -0.12380...     0.0        7  \n",
       "4     [0.06100006, -0.529024, 0.09432596, -0.147633,...     0.0        7  \n",
       "...                                                 ...     ...      ...  \n",
       "8472  [-0.2279381, -0.060110323, -0.10384234, -0.172...     0.0        4  \n",
       "8473  [0.033664487, -0.41040722, 0.20053227, 0.06452...     0.0        4  \n",
       "8474  [-0.15608352, -0.0043046027, 0.11045892, -0.09...     0.0        1  \n",
       "8475  [-0.13077906, 0.13013381, 0.09061687, -0.08378...     0.0       19  \n",
       "8476  [0.12945966, 0.24823509, 0.19090202, -0.465580...     0.0        9  \n",
       "\n",
       "[25276 rows x 7 columns]"
      ]
     },
     "execution_count": 27,
     "metadata": {},
     "output_type": "execute_result"
    }
   ],
   "source": [
    "df"
   ]
  },
  {
   "cell_type": "code",
   "execution_count": 28,
   "id": "f117926e",
   "metadata": {},
   "outputs": [],
   "source": [
    "df.to_pickle('df embedding and entity and cluster- 1 janvier to 7 mars')"
   ]
  },
  {
   "cell_type": "code",
   "execution_count": 29,
   "id": "c832ad84",
   "metadata": {},
   "outputs": [],
   "source": [
    "df = pd.read_pickle('df embedding and entity and cluster- 1 janvier to 7 mars')"
   ]
  },
  {
   "cell_type": "markdown",
   "id": "64663a18",
   "metadata": {},
   "source": [
    "#### Column `Similar`\n",
    "To augment our DataFrame (`df`) with a \"Similar\" column, we utilize the `similarity_to_0` function. This function computes the cosine similarity between each embedding in the \"Embedding\" column and a reference embedding (Here it is the description of Apple Inc. that is in Wikipedia). The resulting similarity scores, ranging from 0 to 1, are then stored in the \"Similar\" column. This enables quick assessment of semantic similarity between text embeddings and the reference embedding, aiding subsequent analysis and interpretation."
   ]
  },
  {
   "cell_type": "code",
   "execution_count": 34,
   "id": "20dd1a64",
   "metadata": {},
   "outputs": [],
   "source": [
    "ref_apple = \"\"\"Apple Inc. (formerly Apple Computer, Inc.) is an American multinational technology company headquartered\\\n",
    "in Cupertino, California, in Silicon Valley. It designs, develops, and sells consumer electronics, computer\\\n",
    "software, and online services. Devices include the iPhone, iPad, Mac, Apple Watch, and Apple TV; operating\\\n",
    "systems include iOS and macOS; and software applications and services include iTunes, iCloud, and Apple Music\\\n",
    "\"\"\"\n",
    "embedding_ref = get_embedding(ref_apple)"
   ]
  },
  {
   "cell_type": "code",
   "execution_count": 35,
   "id": "225ade42",
   "metadata": {},
   "outputs": [],
   "source": [
    "from scipy.spatial.distance import cosine\n",
    "def similarity_to_0(row):\n",
    "    global embedding_ref\n",
    "    return 1 - cosine(row['Embedding'], embedding_ref)"
   ]
  },
  {
   "cell_type": "code",
   "execution_count": 36,
   "id": "d7dcc6a6",
   "metadata": {},
   "outputs": [],
   "source": [
    "df['Similarity'] = df.apply(similarity_to_0, axis=1)"
   ]
  },
  {
   "cell_type": "code",
   "execution_count": 37,
   "id": "c54aa86a",
   "metadata": {},
   "outputs": [
    {
     "data": {
      "text/html": [
       "<div>\n",
       "<style scoped>\n",
       "    .dataframe tbody tr th:only-of-type {\n",
       "        vertical-align: middle;\n",
       "    }\n",
       "\n",
       "    .dataframe tbody tr th {\n",
       "        vertical-align: top;\n",
       "    }\n",
       "\n",
       "    .dataframe thead th {\n",
       "        text-align: right;\n",
       "    }\n",
       "</style>\n",
       "<table border=\"1\" class=\"dataframe\">\n",
       "  <thead>\n",
       "    <tr style=\"text-align: right;\">\n",
       "      <th></th>\n",
       "      <th>Date</th>\n",
       "      <th>Name</th>\n",
       "      <th>Title</th>\n",
       "      <th>Abstract</th>\n",
       "      <th>Embedding</th>\n",
       "      <th>Entity</th>\n",
       "      <th>Cluster</th>\n",
       "      <th>Similarity</th>\n",
       "    </tr>\n",
       "  </thead>\n",
       "  <tbody>\n",
       "    <tr>\n",
       "      <th>0</th>\n",
       "      <td>2023-12-31 00:00:00</td>\n",
       "      <td>Hacker News</td>\n",
       "      <td>Cold-blooded software | Hacker News</td>\n",
       "      <td>None</td>\n",
       "      <td>[0.2399339, -0.19047374, -0.08786014, 0.028991...</td>\n",
       "      <td>0.0</td>\n",
       "      <td>8</td>\n",
       "      <td>0.574462</td>\n",
       "    </tr>\n",
       "    <tr>\n",
       "      <th>1</th>\n",
       "      <td>2023-12-31 00:00:00</td>\n",
       "      <td>ABC News</td>\n",
       "      <td>Displaced, repatriated and crossing borders: A...</td>\n",
       "      <td>The barren desert plain among the mountains of...</td>\n",
       "      <td>[0.13767257, 0.12975843, 0.06555537, 0.0827153...</td>\n",
       "      <td>0.0</td>\n",
       "      <td>6</td>\n",
       "      <td>0.574035</td>\n",
       "    </tr>\n",
       "    <tr>\n",
       "      <th>2</th>\n",
       "      <td>2023-12-31 00:00:00</td>\n",
       "      <td>Buzzfeed</td>\n",
       "      <td>34 Products For Anyone Who Self-Identifies As ...</td>\n",
       "      <td>It's this clever attachable Stanley cup snack ...</td>\n",
       "      <td>[-0.007809721, 0.07871487, 0.16217521, -0.1808...</td>\n",
       "      <td>0.0</td>\n",
       "      <td>21</td>\n",
       "      <td>0.618445</td>\n",
       "    </tr>\n",
       "    <tr>\n",
       "      <th>3</th>\n",
       "      <td>2023-12-31 00:00:00</td>\n",
       "      <td>ABC News</td>\n",
       "      <td>Laws banning semi-automatic weapons and librar...</td>\n",
       "      <td>Illinois will usher in 320 new laws on New Yea...</td>\n",
       "      <td>[0.09242323, -0.26005897, -0.2887374, -0.12380...</td>\n",
       "      <td>0.0</td>\n",
       "      <td>7</td>\n",
       "      <td>0.574722</td>\n",
       "    </tr>\n",
       "    <tr>\n",
       "      <th>4</th>\n",
       "      <td>2023-12-31 00:00:00</td>\n",
       "      <td>ABC News</td>\n",
       "      <td>After landmark legislation, Indiana Republican...</td>\n",
       "      <td>Indiana's Republican leaders are calling for a...</td>\n",
       "      <td>[0.06100006, -0.529024, 0.09432596, -0.147633,...</td>\n",
       "      <td>0.0</td>\n",
       "      <td>7</td>\n",
       "      <td>0.488754</td>\n",
       "    </tr>\n",
       "    <tr>\n",
       "      <th>...</th>\n",
       "      <td>...</td>\n",
       "      <td>...</td>\n",
       "      <td>...</td>\n",
       "      <td>...</td>\n",
       "      <td>...</td>\n",
       "      <td>...</td>\n",
       "      <td>...</td>\n",
       "      <td>...</td>\n",
       "    </tr>\n",
       "    <tr>\n",
       "      <th>8472</th>\n",
       "      <td>2024-03-07</td>\n",
       "      <td>ABC News</td>\n",
       "      <td>Maine mass shooter 'likely' suffered from trau...</td>\n",
       "      <td>Robert Card, the man who killed 18 in the Lewi...</td>\n",
       "      <td>[-0.2279381, -0.060110323, -0.10384234, -0.172...</td>\n",
       "      <td>0.0</td>\n",
       "      <td>4</td>\n",
       "      <td>0.489876</td>\n",
       "    </tr>\n",
       "    <tr>\n",
       "      <th>8473</th>\n",
       "      <td>2024-03-07</td>\n",
       "      <td>CBC News</td>\n",
       "      <td>Pedestrian struck and killed on Gardiner Expre...</td>\n",
       "      <td>A pedestrian was struck and killed by a vehicl...</td>\n",
       "      <td>[0.033664487, -0.41040722, 0.20053227, 0.06452...</td>\n",
       "      <td>0.0</td>\n",
       "      <td>4</td>\n",
       "      <td>0.477289</td>\n",
       "    </tr>\n",
       "    <tr>\n",
       "      <th>8474</th>\n",
       "      <td>2024-03-07</td>\n",
       "      <td>CNN</td>\n",
       "      <td>Single dose of LSD provides immediate, lasting...</td>\n",
       "      <td>One dose of LSD in a clinical trial significan...</td>\n",
       "      <td>[-0.15608352, -0.0043046027, 0.11045892, -0.09...</td>\n",
       "      <td>0.0</td>\n",
       "      <td>1</td>\n",
       "      <td>0.553005</td>\n",
       "    </tr>\n",
       "    <tr>\n",
       "      <th>8475</th>\n",
       "      <td>2024-03-07</td>\n",
       "      <td>BBC News</td>\n",
       "      <td>World's earliest forest discovered, scientists...</td>\n",
       "      <td>The tree fossils dating back 390 million years...</td>\n",
       "      <td>[-0.13077906, 0.13013381, 0.09061687, -0.08378...</td>\n",
       "      <td>0.0</td>\n",
       "      <td>19</td>\n",
       "      <td>0.547306</td>\n",
       "    </tr>\n",
       "    <tr>\n",
       "      <th>8476</th>\n",
       "      <td>2024-03-07</td>\n",
       "      <td>Business Insider</td>\n",
       "      <td>Kate Winslet opens up for the first time about...</td>\n",
       "      <td>Kate Winslet, the Oscar-winning actor, talked ...</td>\n",
       "      <td>[0.12945966, 0.24823509, 0.19090202, -0.465580...</td>\n",
       "      <td>0.0</td>\n",
       "      <td>9</td>\n",
       "      <td>0.571821</td>\n",
       "    </tr>\n",
       "  </tbody>\n",
       "</table>\n",
       "<p>25276 rows × 8 columns</p>\n",
       "</div>"
      ],
      "text/plain": [
       "                     Date              Name  \\\n",
       "0     2023-12-31 00:00:00       Hacker News   \n",
       "1     2023-12-31 00:00:00          ABC News   \n",
       "2     2023-12-31 00:00:00          Buzzfeed   \n",
       "3     2023-12-31 00:00:00          ABC News   \n",
       "4     2023-12-31 00:00:00          ABC News   \n",
       "...                   ...               ...   \n",
       "8472           2024-03-07          ABC News   \n",
       "8473           2024-03-07          CBC News   \n",
       "8474           2024-03-07               CNN   \n",
       "8475           2024-03-07          BBC News   \n",
       "8476           2024-03-07  Business Insider   \n",
       "\n",
       "                                                  Title  \\\n",
       "0                   Cold-blooded software | Hacker News   \n",
       "1     Displaced, repatriated and crossing borders: A...   \n",
       "2     34 Products For Anyone Who Self-Identifies As ...   \n",
       "3     Laws banning semi-automatic weapons and librar...   \n",
       "4     After landmark legislation, Indiana Republican...   \n",
       "...                                                 ...   \n",
       "8472  Maine mass shooter 'likely' suffered from trau...   \n",
       "8473  Pedestrian struck and killed on Gardiner Expre...   \n",
       "8474  Single dose of LSD provides immediate, lasting...   \n",
       "8475  World's earliest forest discovered, scientists...   \n",
       "8476  Kate Winslet opens up for the first time about...   \n",
       "\n",
       "                                               Abstract  \\\n",
       "0                                                  None   \n",
       "1     The barren desert plain among the mountains of...   \n",
       "2     It's this clever attachable Stanley cup snack ...   \n",
       "3     Illinois will usher in 320 new laws on New Yea...   \n",
       "4     Indiana's Republican leaders are calling for a...   \n",
       "...                                                 ...   \n",
       "8472  Robert Card, the man who killed 18 in the Lewi...   \n",
       "8473  A pedestrian was struck and killed by a vehicl...   \n",
       "8474  One dose of LSD in a clinical trial significan...   \n",
       "8475  The tree fossils dating back 390 million years...   \n",
       "8476  Kate Winslet, the Oscar-winning actor, talked ...   \n",
       "\n",
       "                                              Embedding  Entity  Cluster  \\\n",
       "0     [0.2399339, -0.19047374, -0.08786014, 0.028991...     0.0        8   \n",
       "1     [0.13767257, 0.12975843, 0.06555537, 0.0827153...     0.0        6   \n",
       "2     [-0.007809721, 0.07871487, 0.16217521, -0.1808...     0.0       21   \n",
       "3     [0.09242323, -0.26005897, -0.2887374, -0.12380...     0.0        7   \n",
       "4     [0.06100006, -0.529024, 0.09432596, -0.147633,...     0.0        7   \n",
       "...                                                 ...     ...      ...   \n",
       "8472  [-0.2279381, -0.060110323, -0.10384234, -0.172...     0.0        4   \n",
       "8473  [0.033664487, -0.41040722, 0.20053227, 0.06452...     0.0        4   \n",
       "8474  [-0.15608352, -0.0043046027, 0.11045892, -0.09...     0.0        1   \n",
       "8475  [-0.13077906, 0.13013381, 0.09061687, -0.08378...     0.0       19   \n",
       "8476  [0.12945966, 0.24823509, 0.19090202, -0.465580...     0.0        9   \n",
       "\n",
       "      Similarity  \n",
       "0       0.574462  \n",
       "1       0.574035  \n",
       "2       0.618445  \n",
       "3       0.574722  \n",
       "4       0.488754  \n",
       "...          ...  \n",
       "8472    0.489876  \n",
       "8473    0.477289  \n",
       "8474    0.553005  \n",
       "8475    0.547306  \n",
       "8476    0.571821  \n",
       "\n",
       "[25276 rows x 8 columns]"
      ]
     },
     "execution_count": 37,
     "metadata": {},
     "output_type": "execute_result"
    }
   ],
   "source": [
    "df"
   ]
  },
  {
   "cell_type": "code",
   "execution_count": 38,
   "id": "7834869a",
   "metadata": {},
   "outputs": [],
   "source": [
    "df.to_pickle('df embedding and entity and cluster and similarity- 1 janvier to 7 mars')"
   ]
  },
  {
   "cell_type": "code",
   "execution_count": 2,
   "id": "392be004",
   "metadata": {},
   "outputs": [],
   "source": [
    "df = pd.read_pickle('df embedding and entity and cluster and similarity- 1 janvier to 7 mars')"
   ]
  }
 ],
 "metadata": {
  "kernelspec": {
   "display_name": "Python 3",
   "language": "python",
   "name": "python3"
  },
  "language_info": {
   "codemirror_mode": {
    "name": "ipython",
    "version": 3
   },
   "file_extension": ".py",
   "mimetype": "text/x-python",
   "name": "python",
   "nbconvert_exporter": "python",
   "pygments_lexer": "ipython3",
   "version": "3.10.10"
  },
  "widgets": {
   "application/vnd.jupyter.widget-state+json": {
    "state": {
     "08740702ce4943e998fa1506743c3e39": {
      "model_module": "@jupyter-widgets/controls",
      "model_module_version": "2.0.0",
      "model_name": "FloatProgressModel",
      "state": {
       "bar_style": "success",
       "layout": "IPY_MODEL_461e5d4cf7ed487f9421455f790a080e",
       "max": 1802,
       "style": "IPY_MODEL_69d1a3c377464c2b82044bffcee21564",
       "value": 1802
      }
     },
     "0cc224d529e84d11a0e57d8f5d083532": {
      "model_module": "@jupyter-widgets/controls",
      "model_module_version": "2.0.0",
      "model_name": "HBoxModel",
      "state": {
       "children": [
        "IPY_MODEL_580526c3a8ac45c9b25e59e67a4a81d2",
        "IPY_MODEL_e5591093b3f94d1c80d894fcba70d863",
        "IPY_MODEL_90a09949ec7b4e358b267cc9a59c3c90"
       ],
       "layout": "IPY_MODEL_7157a660b16f4b07944c6fa817a5377f"
      }
     },
     "0ff42cf3d262474b9745568fc1bc827c": {
      "model_module": "@jupyter-widgets/controls",
      "model_module_version": "2.0.0",
      "model_name": "HTMLStyleModel",
      "state": {
       "description_width": "",
       "font_size": null,
       "text_color": null
      }
     },
     "1077b5e451d4467d976fc6f5146c457b": {
      "model_module": "@jupyter-widgets/controls",
      "model_module_version": "2.0.0",
      "model_name": "HBoxModel",
      "state": {
       "children": [
        "IPY_MODEL_c6fb558531894d8aacc6bc058686c94b",
        "IPY_MODEL_6e32fd561c864fc19634f1ae0796ed29",
        "IPY_MODEL_33ab3a3d376f4f4aaf5c3d2020fbd41d"
       ],
       "layout": "IPY_MODEL_4160fe959d00451ba6d042bc616e7936"
      }
     },
     "12e317139b764f169335558b656e7a61": {
      "model_module": "@jupyter-widgets/controls",
      "model_module_version": "2.0.0",
      "model_name": "HTMLStyleModel",
      "state": {
       "description_width": "",
       "font_size": null,
       "text_color": null
      }
     },
     "1378b8daed444d719849ac9b8d4e999a": {
      "model_module": "@jupyter-widgets/controls",
      "model_module_version": "2.0.0",
      "model_name": "HBoxModel",
      "state": {
       "children": [
        "IPY_MODEL_67da88dfae234ab1bc8638f0aed43dd6",
        "IPY_MODEL_fc4c200d111d4380a677c185bc44e95d",
        "IPY_MODEL_61bbd265fad34a6287c94984baf3927c"
       ],
       "layout": "IPY_MODEL_f582329fcdd641b981c82cb67c6c7637"
      }
     },
     "146868a53e254ae7aa03fa894de448f2": {
      "model_module": "@jupyter-widgets/base",
      "model_module_version": "2.0.0",
      "model_name": "LayoutModel",
      "state": {}
     },
     "170d21ada16a46dbbe2865c3032c3a84": {
      "model_module": "@jupyter-widgets/controls",
      "model_module_version": "2.0.0",
      "model_name": "ProgressStyleModel",
      "state": {
       "description_width": ""
      }
     },
     "1788d3c56c31425097f132345ddfd0fb": {
      "model_module": "@jupyter-widgets/base",
      "model_module_version": "2.0.0",
      "model_name": "LayoutModel",
      "state": {}
     },
     "1e54cf8b50a64e3a9e627cba4b6b9b82": {
      "model_module": "@jupyter-widgets/controls",
      "model_module_version": "2.0.0",
      "model_name": "HTMLModel",
      "state": {
       "layout": "IPY_MODEL_bf6756bce7d8411ca0e75ecda13cef92",
       "style": "IPY_MODEL_63e960ea9d0e4a57971b723fb942bb9f",
       "value": "Downloading (…)olve/main/vocab.json: 100%"
      }
     },
     "24d5daeccf734a73a64401962ed145ef": {
      "model_module": "@jupyter-widgets/base",
      "model_module_version": "2.0.0",
      "model_name": "LayoutModel",
      "state": {}
     },
     "280c260843eb4eeeb3a1218b5854ede3": {
      "model_module": "@jupyter-widgets/controls",
      "model_module_version": "2.0.0",
      "model_name": "HTMLStyleModel",
      "state": {
       "description_width": "",
       "font_size": null,
       "text_color": null
      }
     },
     "2a4c670c883543ebab3c45f63dae7543": {
      "model_module": "@jupyter-widgets/base",
      "model_module_version": "2.0.0",
      "model_name": "LayoutModel",
      "state": {}
     },
     "2b9eb8e14773478c8ae0c7b989213c9d": {
      "model_module": "@jupyter-widgets/controls",
      "model_module_version": "2.0.0",
      "model_name": "HTMLStyleModel",
      "state": {
       "description_width": "",
       "font_size": null,
       "text_color": null
      }
     },
     "2e758b1877464748821d853cc2aca248": {
      "model_module": "@jupyter-widgets/controls",
      "model_module_version": "2.0.0",
      "model_name": "HTMLStyleModel",
      "state": {
       "description_width": "",
       "font_size": null,
       "text_color": null
      }
     },
     "2e79e2d0dd5b49ddb476d933a50befc6": {
      "model_module": "@jupyter-widgets/base",
      "model_module_version": "2.0.0",
      "model_name": "LayoutModel",
      "state": {}
     },
     "309d79bf0bbf4cb5b66c51559f5bd833": {
      "model_module": "@jupyter-widgets/controls",
      "model_module_version": "2.0.0",
      "model_name": "HTMLStyleModel",
      "state": {
       "description_width": "",
       "font_size": null,
       "text_color": null
      }
     },
     "33ab3a3d376f4f4aaf5c3d2020fbd41d": {
      "model_module": "@jupyter-widgets/controls",
      "model_module_version": "2.0.0",
      "model_name": "HTMLModel",
      "state": {
       "layout": "IPY_MODEL_509d6bfc1ccc4687863c46f8d6c407f4",
       "style": "IPY_MODEL_aab8d158bf52482bb59838b0cf37d7f8",
       "value": " 1.22G/1.22G [01:57&lt;00:00, 10.1MB/s]"
      }
     },
     "39b6857f5819461ba8a764c9d4a2c1eb": {
      "model_module": "@jupyter-widgets/controls",
      "model_module_version": "2.0.0",
      "model_name": "HBoxModel",
      "state": {
       "children": [
        "IPY_MODEL_a8e7ae0c6810413fb4d31388176ac260",
        "IPY_MODEL_c5b86d17fd4e4e9695ef7a15b286a8d5",
        "IPY_MODEL_eca56b74ac3b44ec94924639613556b8"
       ],
       "layout": "IPY_MODEL_2a4c670c883543ebab3c45f63dae7543"
      }
     },
     "3ffc404ba51b4e2a8e7b7a4a61cfb2c6": {
      "model_module": "@jupyter-widgets/controls",
      "model_module_version": "2.0.0",
      "model_name": "HTMLModel",
      "state": {
       "layout": "IPY_MODEL_f37deca5c3cf4dbcbf3653bfd1857487",
       "style": "IPY_MODEL_280c260843eb4eeeb3a1218b5854ede3",
       "value": " 899k/899k [00:00&lt;00:00, 5.92MB/s]"
      }
     },
     "4160fe959d00451ba6d042bc616e7936": {
      "model_module": "@jupyter-widgets/base",
      "model_module_version": "2.0.0",
      "model_name": "LayoutModel",
      "state": {}
     },
     "461e5d4cf7ed487f9421455f790a080e": {
      "model_module": "@jupyter-widgets/base",
      "model_module_version": "2.0.0",
      "model_name": "LayoutModel",
      "state": {}
     },
     "4974943a7ec04db08d65b61f9d7e544b": {
      "model_module": "@jupyter-widgets/controls",
      "model_module_version": "2.0.0",
      "model_name": "FloatProgressModel",
      "state": {
       "bar_style": "success",
       "layout": "IPY_MODEL_1788d3c56c31425097f132345ddfd0fb",
       "max": 898822,
       "style": "IPY_MODEL_838021babbb44834977834b983de148e",
       "value": 898822
      }
     },
     "4a88e49ce3b44596ba86f3715d3ff225": {
      "model_module": "@jupyter-widgets/base",
      "model_module_version": "2.0.0",
      "model_name": "LayoutModel",
      "state": {}
     },
     "4d4dba38347446ae981f322977b34aa8": {
      "model_module": "@jupyter-widgets/controls",
      "model_module_version": "2.0.0",
      "model_name": "HTMLStyleModel",
      "state": {
       "description_width": "",
       "font_size": null,
       "text_color": null
      }
     },
     "509d6bfc1ccc4687863c46f8d6c407f4": {
      "model_module": "@jupyter-widgets/base",
      "model_module_version": "2.0.0",
      "model_name": "LayoutModel",
      "state": {}
     },
     "50a9838ee304493ca8cade5cd63e2d94": {
      "model_module": "@jupyter-widgets/controls",
      "model_module_version": "2.0.0",
      "model_name": "HTMLStyleModel",
      "state": {
       "description_width": "",
       "font_size": null,
       "text_color": null
      }
     },
     "51ac5c55bd6d453bbdd3571b883b0c87": {
      "model_module": "@jupyter-widgets/controls",
      "model_module_version": "2.0.0",
      "model_name": "HTMLModel",
      "state": {
       "layout": "IPY_MODEL_85685304b737449c93e88f54a5b390ed",
       "style": "IPY_MODEL_52edd30f01fc47328dda0b654d145609",
       "value": "Downloading (…)olve/main/vocab.json: 100%"
      }
     },
     "52edd30f01fc47328dda0b654d145609": {
      "model_module": "@jupyter-widgets/controls",
      "model_module_version": "2.0.0",
      "model_name": "HTMLStyleModel",
      "state": {
       "description_width": "",
       "font_size": null,
       "text_color": null
      }
     },
     "55825ce001cf4ec8bc570c24b953b015": {
      "model_module": "@jupyter-widgets/base",
      "model_module_version": "2.0.0",
      "model_name": "LayoutModel",
      "state": {}
     },
     "580526c3a8ac45c9b25e59e67a4a81d2": {
      "model_module": "@jupyter-widgets/controls",
      "model_module_version": "2.0.0",
      "model_name": "HTMLModel",
      "state": {
       "layout": "IPY_MODEL_602752ce5b6540679a45b7e5c80af7fd",
       "style": "IPY_MODEL_93f60cf44b7749228906a3340f060a23",
       "value": "Downloading (…)olve/main/merges.txt: 100%"
      }
     },
     "5f00b953326c4f728b660d2745ef9bc3": {
      "model_module": "@jupyter-widgets/controls",
      "model_module_version": "2.0.0",
      "model_name": "HTMLModel",
      "state": {
       "layout": "IPY_MODEL_affd1ed348774c28b6491b2ec720bfc1",
       "style": "IPY_MODEL_4d4dba38347446ae981f322977b34aa8",
       "value": " 1.80k/1.80k [00:00&lt;00:00, 39.7kB/s]"
      }
     },
     "602752ce5b6540679a45b7e5c80af7fd": {
      "model_module": "@jupyter-widgets/base",
      "model_module_version": "2.0.0",
      "model_name": "LayoutModel",
      "state": {}
     },
     "60d6d852ee624a3cac219b88fb55a1cf": {
      "model_module": "@jupyter-widgets/base",
      "model_module_version": "2.0.0",
      "model_name": "LayoutModel",
      "state": {}
     },
     "61bbd265fad34a6287c94984baf3927c": {
      "model_module": "@jupyter-widgets/controls",
      "model_module_version": "2.0.0",
      "model_name": "HTMLModel",
      "state": {
       "layout": "IPY_MODEL_60d6d852ee624a3cac219b88fb55a1cf",
       "style": "IPY_MODEL_2e758b1877464748821d853cc2aca248",
       "value": " 665/665 [00:00&lt;00:00, 31.7kB/s]"
      }
     },
     "63e960ea9d0e4a57971b723fb942bb9f": {
      "model_module": "@jupyter-widgets/controls",
      "model_module_version": "2.0.0",
      "model_name": "HTMLStyleModel",
      "state": {
       "description_width": "",
       "font_size": null,
       "text_color": null
      }
     },
     "664cb299a7d049a8953ec7adc9548c9a": {
      "model_module": "@jupyter-widgets/base",
      "model_module_version": "2.0.0",
      "model_name": "LayoutModel",
      "state": {}
     },
     "67da88dfae234ab1bc8638f0aed43dd6": {
      "model_module": "@jupyter-widgets/controls",
      "model_module_version": "2.0.0",
      "model_name": "HTMLModel",
      "state": {
       "layout": "IPY_MODEL_d5b649a947884f1c84752f254874fbc2",
       "style": "IPY_MODEL_f16ef836bfdc43498cbdfc08d1a98360",
       "value": "Downloading (…)lve/main/config.json: 100%"
      }
     },
     "69d1a3c377464c2b82044bffcee21564": {
      "model_module": "@jupyter-widgets/controls",
      "model_module_version": "2.0.0",
      "model_name": "ProgressStyleModel",
      "state": {
       "description_width": ""
      }
     },
     "6a5f9a3975fa4729af20682d72aeebb7": {
      "model_module": "@jupyter-widgets/controls",
      "model_module_version": "2.0.0",
      "model_name": "HBoxModel",
      "state": {
       "children": [
        "IPY_MODEL_f099b67f44094b09a205ed4896562e20",
        "IPY_MODEL_08740702ce4943e998fa1506743c3e39",
        "IPY_MODEL_5f00b953326c4f728b660d2745ef9bc3"
       ],
       "layout": "IPY_MODEL_2e79e2d0dd5b49ddb476d933a50befc6"
      }
     },
     "6e32fd561c864fc19634f1ae0796ed29": {
      "model_module": "@jupyter-widgets/controls",
      "model_module_version": "2.0.0",
      "model_name": "FloatProgressModel",
      "state": {
       "bar_style": "success",
       "layout": "IPY_MODEL_c39fb332b1d44b5b95ad7d31aaaf753d",
       "max": 1222317369,
       "style": "IPY_MODEL_eca15d5c3d104ac9b37032d2adceed87",
       "value": 1222317369
      }
     },
     "7157a660b16f4b07944c6fa817a5377f": {
      "model_module": "@jupyter-widgets/base",
      "model_module_version": "2.0.0",
      "model_name": "LayoutModel",
      "state": {}
     },
     "74857e4b0acd4443b5544509b247e232": {
      "model_module": "@jupyter-widgets/controls",
      "model_module_version": "2.0.0",
      "model_name": "HTMLStyleModel",
      "state": {
       "description_width": "",
       "font_size": null,
       "text_color": null
      }
     },
     "81181355fb264f06ab229014358ca7c4": {
      "model_module": "@jupyter-widgets/controls",
      "model_module_version": "2.0.0",
      "model_name": "ProgressStyleModel",
      "state": {
       "description_width": ""
      }
     },
     "838021babbb44834977834b983de148e": {
      "model_module": "@jupyter-widgets/controls",
      "model_module_version": "2.0.0",
      "model_name": "ProgressStyleModel",
      "state": {
       "description_width": ""
      }
     },
     "85685304b737449c93e88f54a5b390ed": {
      "model_module": "@jupyter-widgets/base",
      "model_module_version": "2.0.0",
      "model_name": "LayoutModel",
      "state": {}
     },
     "8856bbff3cb24c9491d672ee1a32e5c0": {
      "model_module": "@jupyter-widgets/base",
      "model_module_version": "2.0.0",
      "model_name": "LayoutModel",
      "state": {}
     },
     "90a09949ec7b4e358b267cc9a59c3c90": {
      "model_module": "@jupyter-widgets/controls",
      "model_module_version": "2.0.0",
      "model_name": "HTMLModel",
      "state": {
       "layout": "IPY_MODEL_da18ee1b9bee4398a9e17b49030c61da",
       "style": "IPY_MODEL_0ff42cf3d262474b9745568fc1bc827c",
       "value": " 456k/456k [00:00&lt;00:00, 1.65MB/s]"
      }
     },
     "93d8b04ece8d4876a073fc583fc476ff": {
      "model_module": "@jupyter-widgets/base",
      "model_module_version": "2.0.0",
      "model_name": "LayoutModel",
      "state": {}
     },
     "93f60cf44b7749228906a3340f060a23": {
      "model_module": "@jupyter-widgets/controls",
      "model_module_version": "2.0.0",
      "model_name": "HTMLStyleModel",
      "state": {
       "description_width": "",
       "font_size": null,
       "text_color": null
      }
     },
     "946f08f0aaa44ffa94d8583b0cce2798": {
      "model_module": "@jupyter-widgets/base",
      "model_module_version": "2.0.0",
      "model_name": "LayoutModel",
      "state": {}
     },
     "9a9bb1931eeb4f699f4bde7b971bb527": {
      "model_module": "@jupyter-widgets/controls",
      "model_module_version": "2.0.0",
      "model_name": "HBoxModel",
      "state": {
       "children": [
        "IPY_MODEL_b2a76c9ee18a452aa36163c6c07a113d",
        "IPY_MODEL_f828c4cf78694b6191b76e7242c1cfcc",
        "IPY_MODEL_eb4e353e407c400a96ea5115fe3214e4"
       ],
       "layout": "IPY_MODEL_4a88e49ce3b44596ba86f3715d3ff225"
      }
     },
     "a3d4fdac3e764f7e8ff153340cac3d7b": {
      "model_module": "@jupyter-widgets/base",
      "model_module_version": "2.0.0",
      "model_name": "LayoutModel",
      "state": {}
     },
     "a58e9b1166dc43008f3c4b205773786d": {
      "model_module": "@jupyter-widgets/base",
      "model_module_version": "2.0.0",
      "model_name": "LayoutModel",
      "state": {}
     },
     "a59b31fd4dff4de69ed49516757962a8": {
      "model_module": "@jupyter-widgets/controls",
      "model_module_version": "2.0.0",
      "model_name": "ProgressStyleModel",
      "state": {
       "description_width": ""
      }
     },
     "a8e7ae0c6810413fb4d31388176ac260": {
      "model_module": "@jupyter-widgets/controls",
      "model_module_version": "2.0.0",
      "model_name": "HTMLModel",
      "state": {
       "layout": "IPY_MODEL_93d8b04ece8d4876a073fc583fc476ff",
       "style": "IPY_MODEL_ba95ef78172b46a399bbc78bd568b680",
       "value": "Downloading (…)/main/tokenizer.json: 100%"
      }
     },
     "aab8d158bf52482bb59838b0cf37d7f8": {
      "model_module": "@jupyter-widgets/controls",
      "model_module_version": "2.0.0",
      "model_name": "HTMLStyleModel",
      "state": {
       "description_width": "",
       "font_size": null,
       "text_color": null
      }
     },
     "abff26b2144e48fcac30b0439a5a8370": {
      "model_module": "@jupyter-widgets/controls",
      "model_module_version": "2.0.0",
      "model_name": "ProgressStyleModel",
      "state": {
       "description_width": ""
      }
     },
     "ae2b6bb5b6784260b22564641be78fc7": {
      "model_module": "@jupyter-widgets/controls",
      "model_module_version": "2.0.0",
      "model_name": "HBoxModel",
      "state": {
       "children": [
        "IPY_MODEL_1e54cf8b50a64e3a9e627cba4b6b9b82",
        "IPY_MODEL_d2aa2c4f9ac84b0d8df81a45bd89baba",
        "IPY_MODEL_c932c414dab84192a45e99456259e5fd"
       ],
       "layout": "IPY_MODEL_146868a53e254ae7aa03fa894de448f2"
      }
     },
     "ae9d24968d0142bab8f9c2cc93f50903": {
      "model_module": "@jupyter-widgets/controls",
      "model_module_version": "2.0.0",
      "model_name": "HTMLModel",
      "state": {
       "layout": "IPY_MODEL_d5afc116b7ca4abb9708b8aca949dd51",
       "style": "IPY_MODEL_50a9838ee304493ca8cade5cd63e2d94",
       "value": "Downloading (…)olve/main/merges.txt: 100%"
      }
     },
     "affd1ed348774c28b6491b2ec720bfc1": {
      "model_module": "@jupyter-widgets/base",
      "model_module_version": "2.0.0",
      "model_name": "LayoutModel",
      "state": {}
     },
     "b2a76c9ee18a452aa36163c6c07a113d": {
      "model_module": "@jupyter-widgets/controls",
      "model_module_version": "2.0.0",
      "model_name": "HTMLModel",
      "state": {
       "layout": "IPY_MODEL_debd2ba8ae584be3914e0fa4b6f331a0",
       "style": "IPY_MODEL_2b9eb8e14773478c8ae0c7b989213c9d",
       "value": "Downloading (…)okenizer_config.json: 100%"
      }
     },
     "b2cf3981ae8449f8913b58cb43de3405": {
      "model_module": "@jupyter-widgets/base",
      "model_module_version": "2.0.0",
      "model_name": "LayoutModel",
      "state": {}
     },
     "b7793dd03e6b438fb9a0d74743a7c485": {
      "model_module": "@jupyter-widgets/base",
      "model_module_version": "2.0.0",
      "model_name": "LayoutModel",
      "state": {}
     },
     "b8d92deb1e9b4d9bbab6d7e821c80a23": {
      "model_module": "@jupyter-widgets/controls",
      "model_module_version": "2.0.0",
      "model_name": "HBoxModel",
      "state": {
       "children": [
        "IPY_MODEL_51ac5c55bd6d453bbdd3571b883b0c87",
        "IPY_MODEL_4974943a7ec04db08d65b61f9d7e544b",
        "IPY_MODEL_3ffc404ba51b4e2a8e7b7a4a61cfb2c6"
       ],
       "layout": "IPY_MODEL_f3bb23033ce14166a7ed9845623b461f"
      }
     },
     "ba95ef78172b46a399bbc78bd568b680": {
      "model_module": "@jupyter-widgets/controls",
      "model_module_version": "2.0.0",
      "model_name": "HTMLStyleModel",
      "state": {
       "description_width": "",
       "font_size": null,
       "text_color": null
      }
     },
     "bb05de28e7ba494f8f56873b43592a3e": {
      "model_module": "@jupyter-widgets/base",
      "model_module_version": "2.0.0",
      "model_name": "LayoutModel",
      "state": {}
     },
     "beb6375df79d455ca4b490fac5817f40": {
      "model_module": "@jupyter-widgets/controls",
      "model_module_version": "2.0.0",
      "model_name": "HBoxModel",
      "state": {
       "children": [
        "IPY_MODEL_ae9d24968d0142bab8f9c2cc93f50903",
        "IPY_MODEL_db9e3a49ab9646f188088386b7a028c7",
        "IPY_MODEL_de66cc9024a44a0084773b6dd15923a8"
       ],
       "layout": "IPY_MODEL_664cb299a7d049a8953ec7adc9548c9a"
      }
     },
     "bf6756bce7d8411ca0e75ecda13cef92": {
      "model_module": "@jupyter-widgets/base",
      "model_module_version": "2.0.0",
      "model_name": "LayoutModel",
      "state": {}
     },
     "c0e203505578421e91d9f2729961ddbf": {
      "model_module": "@jupyter-widgets/base",
      "model_module_version": "2.0.0",
      "model_name": "LayoutModel",
      "state": {}
     },
     "c13d3a81c94a49ceaad7c7485d5f3dea": {
      "model_module": "@jupyter-widgets/controls",
      "model_module_version": "2.0.0",
      "model_name": "ProgressStyleModel",
      "state": {
       "description_width": ""
      }
     },
     "c39fb332b1d44b5b95ad7d31aaaf753d": {
      "model_module": "@jupyter-widgets/base",
      "model_module_version": "2.0.0",
      "model_name": "LayoutModel",
      "state": {}
     },
     "c5669cc6cf854af9b29f196c938f2462": {
      "model_module": "@jupyter-widgets/base",
      "model_module_version": "2.0.0",
      "model_name": "LayoutModel",
      "state": {}
     },
     "c5b86d17fd4e4e9695ef7a15b286a8d5": {
      "model_module": "@jupyter-widgets/controls",
      "model_module_version": "2.0.0",
      "model_name": "FloatProgressModel",
      "state": {
       "bar_style": "success",
       "layout": "IPY_MODEL_b2cf3981ae8449f8913b58cb43de3405",
       "max": 1355256,
       "style": "IPY_MODEL_81181355fb264f06ab229014358ca7c4",
       "value": 1355256
      }
     },
     "c6fb558531894d8aacc6bc058686c94b": {
      "model_module": "@jupyter-widgets/controls",
      "model_module_version": "2.0.0",
      "model_name": "HTMLModel",
      "state": {
       "layout": "IPY_MODEL_55825ce001cf4ec8bc570c24b953b015",
       "style": "IPY_MODEL_74857e4b0acd4443b5544509b247e232",
       "value": "Downloading pytorch_model.bin: 100%"
      }
     },
     "c932c414dab84192a45e99456259e5fd": {
      "model_module": "@jupyter-widgets/controls",
      "model_module_version": "2.0.0",
      "model_name": "HTMLModel",
      "state": {
       "layout": "IPY_MODEL_c5669cc6cf854af9b29f196c938f2462",
       "style": "IPY_MODEL_dc3daf6dc869432fad1fb30185348f05",
       "value": " 1.04M/1.04M [00:01&lt;00:00, 789kB/s]"
      }
     },
     "cd7989a2fb524cb1b1c1b4fe4e131907": {
      "model_module": "@jupyter-widgets/controls",
      "model_module_version": "2.0.0",
      "model_name": "HTMLStyleModel",
      "state": {
       "description_width": "",
       "font_size": null,
       "text_color": null
      }
     },
     "d19e8b05ead043c8b0be4c9d997f90d6": {
      "model_module": "@jupyter-widgets/controls",
      "model_module_version": "2.0.0",
      "model_name": "ProgressStyleModel",
      "state": {
       "description_width": ""
      }
     },
     "d2aa2c4f9ac84b0d8df81a45bd89baba": {
      "model_module": "@jupyter-widgets/controls",
      "model_module_version": "2.0.0",
      "model_name": "FloatProgressModel",
      "state": {
       "bar_style": "success",
       "layout": "IPY_MODEL_8856bbff3cb24c9491d672ee1a32e5c0",
       "max": 1042301,
       "style": "IPY_MODEL_170d21ada16a46dbbe2865c3032c3a84",
       "value": 1042301
      }
     },
     "d5afc116b7ca4abb9708b8aca949dd51": {
      "model_module": "@jupyter-widgets/base",
      "model_module_version": "2.0.0",
      "model_name": "LayoutModel",
      "state": {}
     },
     "d5b649a947884f1c84752f254874fbc2": {
      "model_module": "@jupyter-widgets/base",
      "model_module_version": "2.0.0",
      "model_name": "LayoutModel",
      "state": {}
     },
     "da18ee1b9bee4398a9e17b49030c61da": {
      "model_module": "@jupyter-widgets/base",
      "model_module_version": "2.0.0",
      "model_name": "LayoutModel",
      "state": {}
     },
     "db9e3a49ab9646f188088386b7a028c7": {
      "model_module": "@jupyter-widgets/controls",
      "model_module_version": "2.0.0",
      "model_name": "FloatProgressModel",
      "state": {
       "bar_style": "success",
       "layout": "IPY_MODEL_e8a0aedac080487faccf6cb3e5d5a76d",
       "max": 456318,
       "style": "IPY_MODEL_abff26b2144e48fcac30b0439a5a8370",
       "value": 456318
      }
     },
     "dc3daf6dc869432fad1fb30185348f05": {
      "model_module": "@jupyter-widgets/controls",
      "model_module_version": "2.0.0",
      "model_name": "HTMLStyleModel",
      "state": {
       "description_width": "",
       "font_size": null,
       "text_color": null
      }
     },
     "de66cc9024a44a0084773b6dd15923a8": {
      "model_module": "@jupyter-widgets/controls",
      "model_module_version": "2.0.0",
      "model_name": "HTMLModel",
      "state": {
       "layout": "IPY_MODEL_b7793dd03e6b438fb9a0d74743a7c485",
       "style": "IPY_MODEL_12e317139b764f169335558b656e7a61",
       "value": " 456k/456k [00:00&lt;00:00, 839kB/s]"
      }
     },
     "debd2ba8ae584be3914e0fa4b6f331a0": {
      "model_module": "@jupyter-widgets/base",
      "model_module_version": "2.0.0",
      "model_name": "LayoutModel",
      "state": {}
     },
     "e5591093b3f94d1c80d894fcba70d863": {
      "model_module": "@jupyter-widgets/controls",
      "model_module_version": "2.0.0",
      "model_name": "FloatProgressModel",
      "state": {
       "bar_style": "success",
       "layout": "IPY_MODEL_a58e9b1166dc43008f3c4b205773786d",
       "max": 456318,
       "style": "IPY_MODEL_a59b31fd4dff4de69ed49516757962a8",
       "value": 456318
      }
     },
     "e8a0aedac080487faccf6cb3e5d5a76d": {
      "model_module": "@jupyter-widgets/base",
      "model_module_version": "2.0.0",
      "model_name": "LayoutModel",
      "state": {}
     },
     "eb4e353e407c400a96ea5115fe3214e4": {
      "model_module": "@jupyter-widgets/controls",
      "model_module_version": "2.0.0",
      "model_name": "HTMLModel",
      "state": {
       "layout": "IPY_MODEL_24d5daeccf734a73a64401962ed145ef",
       "style": "IPY_MODEL_cd7989a2fb524cb1b1c1b4fe4e131907",
       "value": " 26.0/26.0 [00:00&lt;00:00, 1.30kB/s]"
      }
     },
     "eca15d5c3d104ac9b37032d2adceed87": {
      "model_module": "@jupyter-widgets/controls",
      "model_module_version": "2.0.0",
      "model_name": "ProgressStyleModel",
      "state": {
       "description_width": ""
      }
     },
     "eca56b74ac3b44ec94924639613556b8": {
      "model_module": "@jupyter-widgets/controls",
      "model_module_version": "2.0.0",
      "model_name": "HTMLModel",
      "state": {
       "layout": "IPY_MODEL_c0e203505578421e91d9f2729961ddbf",
       "style": "IPY_MODEL_309d79bf0bbf4cb5b66c51559f5bd833",
       "value": " 1.36M/1.36M [00:02&lt;00:00, 561kB/s]"
      }
     },
     "f099b67f44094b09a205ed4896562e20": {
      "model_module": "@jupyter-widgets/controls",
      "model_module_version": "2.0.0",
      "model_name": "HTMLModel",
      "state": {
       "layout": "IPY_MODEL_bb05de28e7ba494f8f56873b43592a3e",
       "style": "IPY_MODEL_f1211487525b4d22b00e03db0d0c63cc",
       "value": "Downloading (…)lve/main/config.json: 100%"
      }
     },
     "f1211487525b4d22b00e03db0d0c63cc": {
      "model_module": "@jupyter-widgets/controls",
      "model_module_version": "2.0.0",
      "model_name": "HTMLStyleModel",
      "state": {
       "description_width": "",
       "font_size": null,
       "text_color": null
      }
     },
     "f16ef836bfdc43498cbdfc08d1a98360": {
      "model_module": "@jupyter-widgets/controls",
      "model_module_version": "2.0.0",
      "model_name": "HTMLStyleModel",
      "state": {
       "description_width": "",
       "font_size": null,
       "text_color": null
      }
     },
     "f37deca5c3cf4dbcbf3653bfd1857487": {
      "model_module": "@jupyter-widgets/base",
      "model_module_version": "2.0.0",
      "model_name": "LayoutModel",
      "state": {}
     },
     "f3bb23033ce14166a7ed9845623b461f": {
      "model_module": "@jupyter-widgets/base",
      "model_module_version": "2.0.0",
      "model_name": "LayoutModel",
      "state": {}
     },
     "f582329fcdd641b981c82cb67c6c7637": {
      "model_module": "@jupyter-widgets/base",
      "model_module_version": "2.0.0",
      "model_name": "LayoutModel",
      "state": {}
     },
     "f828c4cf78694b6191b76e7242c1cfcc": {
      "model_module": "@jupyter-widgets/controls",
      "model_module_version": "2.0.0",
      "model_name": "FloatProgressModel",
      "state": {
       "bar_style": "success",
       "layout": "IPY_MODEL_a3d4fdac3e764f7e8ff153340cac3d7b",
       "max": 26,
       "style": "IPY_MODEL_d19e8b05ead043c8b0be4c9d997f90d6",
       "value": 26
      }
     },
     "fc4c200d111d4380a677c185bc44e95d": {
      "model_module": "@jupyter-widgets/controls",
      "model_module_version": "2.0.0",
      "model_name": "FloatProgressModel",
      "state": {
       "bar_style": "success",
       "layout": "IPY_MODEL_946f08f0aaa44ffa94d8583b0cce2798",
       "max": 665,
       "style": "IPY_MODEL_c13d3a81c94a49ceaad7c7485d5f3dea",
       "value": 665
      }
     }
    },
    "version_major": 2,
    "version_minor": 0
   }
  }
 },
 "nbformat": 4,
 "nbformat_minor": 5
}
